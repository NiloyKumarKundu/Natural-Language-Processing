{
 "cells": [
  {
   "cell_type": "code",
   "execution_count": 4,
   "id": "d6c0ec5e-7927-4216-b49e-08daddc8070a",
   "metadata": {},
   "outputs": [],
   "source": [
    "import re\n",
    "import nltk\n",
    "from nltk.stem.porter import PorterStemmer\n",
    "from nltk.stem import WordNetLemmatizer \n",
    "from nltk.corpus import stopwords"
   ]
  },
  {
   "cell_type": "code",
   "execution_count": 18,
   "id": "f2367afb-6389-42d4-bbfe-3b94b78ff739",
   "metadata": {},
   "outputs": [],
   "source": [
    "paragraph = \"\"\"\n",
    "Police units around the world have joined forces in a series of covert operations targeting one of West Africa’s most feared criminal networks - Black Axe.\n",
    "Operation Jackal III saw officers in body armour carry out raids in 21 countries between April and July 2024.\n",
    "The mission, co-ordinated by global policing agency Interpol, led to the arrest of 300 people with links to Black Axe and other affiliated groups.\n",
    "Interpol called the operation a “major blow” to the Nigerian crime network, but warned that its international reach and technological sophistication mean it remains a global threat.\n",
    "In one notorious example, Canadian authorities said they had busted a money-laundering scheme linked to Black Axe worth more than $5bn (£3.8bn) in 2017.\n",
    "“They are very organised and very structured,” Tomonobu Kaya, a senior official at Interpol’s Financial Crime and Anti-Corruption Centre, told the BBC.\n",
    "According to a 2022 report by Interpol, “Black Axe and similar groups are responsible for the majority of the world’s cyber-enabled financial fraud as well as many other serious crimes”.\n",
    "Mr Kaya said innovations in money-transfer software and cryptocurrency have played into the hands of group, which are renowned for multi-million dollar online scams.\n",
    "“These criminal syndicates are early adopters of new technologies… A lot of fintech developments make it really easy to illegally move money around the world,” he said.\n",
    "\"\"\""
   ]
  },
  {
   "cell_type": "code",
   "execution_count": 19,
   "id": "d705c00f-a0e9-4352-9607-ae471186ad29",
   "metadata": {},
   "outputs": [
    {
     "data": {
      "text/plain": [
       "'\\nPolice units around the world have joined forces in a series of covert operations targeting one of West Africa’s most feared criminal networks - Black Axe.\\nOperation Jackal III saw officers in body armour carry out raids in 21 countries between April and July 2024.\\nThe mission, co-ordinated by global policing agency Interpol, led to the arrest of 300 people with links to Black Axe and other affiliated groups.\\nInterpol called the operation a “major blow” to the Nigerian crime network, but warned that its international reach and technological sophistication mean it remains a global threat.\\nIn one notorious example, Canadian authorities said they had busted a money-laundering scheme linked to Black Axe worth more than $5bn (£3.8bn) in 2017.\\n“They are very organised and very structured,” Tomonobu Kaya, a senior official at Interpol’s Financial Crime and Anti-Corruption Centre, told the BBC.\\nAccording to a 2022 report by Interpol, “Black Axe and similar groups are responsible for the majority of the world’s cyber-enabled financial fraud as well as many other serious crimes”.\\nMr Kaya said innovations in money-transfer software and cryptocurrency have played into the hands of group, which are renowned for multi-million dollar online scams.\\n“These criminal syndicates are early adopters of new technologies… A lot of fintech developments make it really easy to illegally move money around the world,” he said.\\n'"
      ]
     },
     "execution_count": 19,
     "metadata": {},
     "output_type": "execute_result"
    }
   ],
   "source": [
    "paragraph"
   ]
  },
  {
   "cell_type": "markdown",
   "id": "490f8dec-e231-42ec-9b9a-a43f7239858c",
   "metadata": {},
   "source": [
    "## Cleaning the texts - using stemming"
   ]
  },
  {
   "cell_type": "code",
   "execution_count": 20,
   "id": "b2a9a733-ec99-4bc3-969f-8d0c5f7e25c8",
   "metadata": {},
   "outputs": [],
   "source": [
    "sentences = nltk.sent_tokenize(paragraph)"
   ]
  },
  {
   "cell_type": "code",
   "execution_count": 21,
   "id": "64ff0dd0-56f3-4e1e-8690-9e31b4d7a873",
   "metadata": {},
   "outputs": [
    {
     "data": {
      "text/plain": [
       "['\\nPolice units around the world have joined forces in a series of covert operations targeting one of West Africa’s most feared criminal networks - Black Axe.',\n",
       " 'Operation Jackal III saw officers in body armour carry out raids in 21 countries between April and July 2024.',\n",
       " 'The mission, co-ordinated by global policing agency Interpol, led to the arrest of 300 people with links to Black Axe and other affiliated groups.',\n",
       " 'Interpol called the operation a “major blow” to the Nigerian crime network, but warned that its international reach and technological sophistication mean it remains a global threat.',\n",
       " 'In one notorious example, Canadian authorities said they had busted a money-laundering scheme linked to Black Axe worth more than $5bn (£3.8bn) in 2017.',\n",
       " '“They are very organised and very structured,” Tomonobu Kaya, a senior official at Interpol’s Financial Crime and Anti-Corruption Centre, told the BBC.',\n",
       " 'According to a 2022 report by Interpol, “Black Axe and similar groups are responsible for the majority of the world’s cyber-enabled financial fraud as well as many other serious crimes”.',\n",
       " 'Mr Kaya said innovations in money-transfer software and cryptocurrency have played into the hands of group, which are renowned for multi-million dollar online scams.',\n",
       " '“These criminal syndicates are early adopters of new technologies… A lot of fintech developments make it really easy to illegally move money around the world,” he said.']"
      ]
     },
     "execution_count": 21,
     "metadata": {},
     "output_type": "execute_result"
    }
   ],
   "source": [
    "sentences"
   ]
  },
  {
   "cell_type": "code",
   "execution_count": 22,
   "id": "e6b72f6d",
   "metadata": {},
   "outputs": [],
   "source": [
    "ps = PorterStemmer()\n",
    "wordnet = WordNetLemmatizer()"
   ]
  },
  {
   "cell_type": "code",
   "execution_count": 23,
   "id": "1934e51b-6e5c-4623-90c6-e909bd3206bf",
   "metadata": {},
   "outputs": [],
   "source": [
    "corpus = []\n",
    "for i in range(len(sentences)):\n",
    "    review = re.sub('[^a-zA-z]', ' ', sentences[i])\n",
    "    review = review.lower()\n",
    "    review = review.split()\n",
    "    review = [ps.stem(word) for word in review if not word in set(stopwords.words('english'))]\n",
    "    review = ' '.join(review)\n",
    "    corpus.append(review)"
   ]
  },
  {
   "cell_type": "code",
   "execution_count": 24,
   "id": "2ea92630-16a9-4121-ae49-e55a9c06c94a",
   "metadata": {},
   "outputs": [
    {
     "data": {
      "text/plain": [
       "['polic unit around world join forc seri covert oper target one west africa fear crimin network black axe',\n",
       " 'oper jackal iii saw offic bodi armour carri raid countri april juli',\n",
       " 'mission co ordin global polic agenc interpol led arrest peopl link black axe affili group',\n",
       " 'interpol call oper major blow nigerian crime network warn intern reach technolog sophist mean remain global threat',\n",
       " 'one notori exampl canadian author said bust money launder scheme link black axe worth bn bn',\n",
       " 'organis structur tomonobu kaya senior offici interpol financi crime anti corrupt centr told bbc',\n",
       " 'accord report interpol black axe similar group respons major world cyber enabl financi fraud well mani seriou crime',\n",
       " 'mr kaya said innov money transfer softwar cryptocurr play hand group renown multi million dollar onlin scam',\n",
       " 'crimin syndic earli adopt new technolog lot fintech develop make realli easi illeg move money around world said']"
      ]
     },
     "execution_count": 24,
     "metadata": {},
     "output_type": "execute_result"
    }
   ],
   "source": [
    "corpus"
   ]
  },
  {
   "cell_type": "markdown",
   "id": "941075b6",
   "metadata": {},
   "source": [
    "## Cleaning text using lemmatization"
   ]
  },
  {
   "cell_type": "code",
   "execution_count": 25,
   "id": "567ac1dc",
   "metadata": {},
   "outputs": [],
   "source": [
    "corpus = []\n",
    "for i in range(len(sentences)):\n",
    "    review = re.sub('[^a-zA-z]', ' ', sentences[i])\n",
    "    review = review.lower()\n",
    "    review = review.split()\n",
    "    review = [wordnet.lemmatize(word) for word in review if not word in set(stopwords.words('english'))]\n",
    "    review = ' '.join(review)\n",
    "    corpus.append(review)"
   ]
  },
  {
   "cell_type": "code",
   "execution_count": 26,
   "id": "05ae345c",
   "metadata": {},
   "outputs": [
    {
     "data": {
      "text/plain": [
       "['police unit around world joined force series covert operation targeting one west africa feared criminal network black axe',\n",
       " 'operation jackal iii saw officer body armour carry raid country april july',\n",
       " 'mission co ordinated global policing agency interpol led arrest people link black axe affiliated group',\n",
       " 'interpol called operation major blow nigerian crime network warned international reach technological sophistication mean remains global threat',\n",
       " 'one notorious example canadian authority said busted money laundering scheme linked black axe worth bn bn',\n",
       " 'organised structured tomonobu kaya senior official interpol financial crime anti corruption centre told bbc',\n",
       " 'according report interpol black axe similar group responsible majority world cyber enabled financial fraud well many serious crime',\n",
       " 'mr kaya said innovation money transfer software cryptocurrency played hand group renowned multi million dollar online scam',\n",
       " 'criminal syndicate early adopter new technology lot fintech development make really easy illegally move money around world said']"
      ]
     },
     "execution_count": 26,
     "metadata": {},
     "output_type": "execute_result"
    }
   ],
   "source": [
    "corpus"
   ]
  },
  {
   "cell_type": "markdown",
   "id": "b49e5cda-7d68-46ae-8b7d-851d1784784f",
   "metadata": {},
   "source": [
    "## Bag of words models"
   ]
  },
  {
   "cell_type": "code",
   "execution_count": 27,
   "id": "06857829-fc9c-424a-981a-33e16ef23994",
   "metadata": {},
   "outputs": [],
   "source": [
    "from sklearn.feature_extraction.text import CountVectorizer"
   ]
  },
  {
   "cell_type": "code",
   "execution_count": 28,
   "id": "a1a746cf-5a4c-4073-b378-03b52a191278",
   "metadata": {},
   "outputs": [],
   "source": [
    "cv = CountVectorizer() # Binary is optional"
   ]
  },
  {
   "cell_type": "code",
   "execution_count": 29,
   "id": "131bd454-6c81-41f0-8696-a51eccec3a07",
   "metadata": {},
   "outputs": [],
   "source": [
    "X = cv.fit_transform(corpus).toarray()"
   ]
  },
  {
   "cell_type": "code",
   "execution_count": 30,
   "id": "4237a6e1",
   "metadata": {},
   "outputs": [
    {
     "data": {
      "text/plain": [
       "array([[0, 0, 0, ..., 1, 1, 0],\n",
       "       [0, 0, 0, ..., 0, 0, 0],\n",
       "       [0, 0, 1, ..., 0, 0, 0],\n",
       "       ...,\n",
       "       [1, 0, 0, ..., 0, 1, 0],\n",
       "       [0, 0, 0, ..., 0, 0, 0],\n",
       "       [0, 1, 0, ..., 0, 1, 0]], dtype=int64)"
      ]
     },
     "execution_count": 30,
     "metadata": {},
     "output_type": "execute_result"
    }
   ],
   "source": [
    "X"
   ]
  },
  {
   "cell_type": "code",
   "execution_count": 31,
   "id": "7e967677-7c77-4185-ae50-c1bc1750ebf9",
   "metadata": {},
   "outputs": [
    {
     "data": {
      "text/plain": [
       "{'police': 82,\n",
       " 'unit': 110,\n",
       " 'around': 8,\n",
       " 'world': 114,\n",
       " 'joined': 50,\n",
       " 'force': 39,\n",
       " 'series': 96,\n",
       " 'covert': 25,\n",
       " 'operation': 77,\n",
       " 'targeting': 103,\n",
       " 'one': 75,\n",
       " 'west': 113,\n",
       " 'africa': 3,\n",
       " 'feared': 36,\n",
       " 'criminal': 27,\n",
       " 'network': 69,\n",
       " 'black': 13,\n",
       " 'axe': 11,\n",
       " 'jackal': 49,\n",
       " 'iii': 44,\n",
       " 'saw': 92,\n",
       " 'officer': 73,\n",
       " 'body': 16,\n",
       " 'armour': 7,\n",
       " 'carry': 20,\n",
       " 'raid': 84,\n",
       " 'country': 24,\n",
       " 'april': 6,\n",
       " 'july': 51,\n",
       " 'mission': 64,\n",
       " 'co': 22,\n",
       " 'ordinated': 78,\n",
       " 'global': 41,\n",
       " 'policing': 83,\n",
       " 'agency': 4,\n",
       " 'interpol': 48,\n",
       " 'led': 54,\n",
       " 'arrest': 9,\n",
       " 'people': 80,\n",
       " 'link': 55,\n",
       " 'affiliated': 2,\n",
       " 'group': 42,\n",
       " 'called': 18,\n",
       " 'major': 58,\n",
       " 'blow': 14,\n",
       " 'nigerian': 71,\n",
       " 'crime': 26,\n",
       " 'warned': 111,\n",
       " 'international': 47,\n",
       " 'reach': 85,\n",
       " 'technological': 104,\n",
       " 'sophistication': 100,\n",
       " 'mean': 62,\n",
       " 'remains': 87,\n",
       " 'threat': 106,\n",
       " 'notorious': 72,\n",
       " 'example': 35,\n",
       " 'canadian': 19,\n",
       " 'authority': 10,\n",
       " 'said': 91,\n",
       " 'busted': 17,\n",
       " 'money': 65,\n",
       " 'laundering': 53,\n",
       " 'scheme': 94,\n",
       " 'linked': 56,\n",
       " 'worth': 115,\n",
       " 'bn': 15,\n",
       " 'organised': 79,\n",
       " 'structured': 101,\n",
       " 'tomonobu': 108,\n",
       " 'kaya': 52,\n",
       " 'senior': 95,\n",
       " 'official': 74,\n",
       " 'financial': 37,\n",
       " 'anti': 5,\n",
       " 'corruption': 23,\n",
       " 'centre': 21,\n",
       " 'told': 107,\n",
       " 'bbc': 12,\n",
       " 'according': 0,\n",
       " 'report': 89,\n",
       " 'similar': 98,\n",
       " 'responsible': 90,\n",
       " 'majority': 59,\n",
       " 'cyber': 29,\n",
       " 'enabled': 34,\n",
       " 'fraud': 40,\n",
       " 'well': 112,\n",
       " 'many': 61,\n",
       " 'serious': 97,\n",
       " 'mr': 67,\n",
       " 'innovation': 46,\n",
       " 'transfer': 109,\n",
       " 'software': 99,\n",
       " 'cryptocurrency': 28,\n",
       " 'played': 81,\n",
       " 'hand': 43,\n",
       " 'renowned': 88,\n",
       " 'multi': 68,\n",
       " 'million': 63,\n",
       " 'dollar': 31,\n",
       " 'online': 76,\n",
       " 'scam': 93,\n",
       " 'syndicate': 102,\n",
       " 'early': 32,\n",
       " 'adopter': 1,\n",
       " 'new': 70,\n",
       " 'technology': 105,\n",
       " 'lot': 57,\n",
       " 'fintech': 38,\n",
       " 'development': 30,\n",
       " 'make': 60,\n",
       " 'really': 86,\n",
       " 'easy': 33,\n",
       " 'illegally': 45,\n",
       " 'move': 66}"
      ]
     },
     "execution_count": 31,
     "metadata": {},
     "output_type": "execute_result"
    }
   ],
   "source": [
    "cv.vocabulary_  ## Represents the index of the vectorizer"
   ]
  },
  {
   "cell_type": "code",
   "execution_count": 32,
   "id": "e8563314-b4e9-4784-b60c-b1fd01867b26",
   "metadata": {},
   "outputs": [
    {
     "data": {
      "text/plain": [
       "array([0, 0, 0, 1, 0, 0, 0, 0, 1, 0, 0, 1, 0, 1, 0, 0, 0, 0, 0, 0, 0, 0,\n",
       "       0, 0, 0, 1, 0, 1, 0, 0, 0, 0, 0, 0, 0, 0, 1, 0, 0, 1, 0, 0, 0, 0,\n",
       "       0, 0, 0, 0, 0, 0, 1, 0, 0, 0, 0, 0, 0, 0, 0, 0, 0, 0, 0, 0, 0, 0,\n",
       "       0, 0, 0, 1, 0, 0, 0, 0, 0, 1, 0, 1, 0, 0, 0, 0, 1, 0, 0, 0, 0, 0,\n",
       "       0, 0, 0, 0, 0, 0, 0, 0, 1, 0, 0, 0, 0, 0, 0, 1, 0, 0, 0, 0, 0, 0,\n",
       "       1, 0, 0, 1, 1, 0], dtype=int64)"
      ]
     },
     "execution_count": 32,
     "metadata": {},
     "output_type": "execute_result"
    }
   ],
   "source": [
    "X[0]"
   ]
  },
  {
   "cell_type": "code",
   "execution_count": null,
   "id": "fc6c3a83",
   "metadata": {},
   "outputs": [],
   "source": []
  }
 ],
 "metadata": {
  "kernelspec": {
   "display_name": "Python 3 (ipykernel)",
   "language": "python",
   "name": "python3"
  },
  "language_info": {
   "codemirror_mode": {
    "name": "ipython",
    "version": 3
   },
   "file_extension": ".py",
   "mimetype": "text/x-python",
   "name": "python",
   "nbconvert_exporter": "python",
   "pygments_lexer": "ipython3",
   "version": "3.11.7"
  }
 },
 "nbformat": 4,
 "nbformat_minor": 5
}
