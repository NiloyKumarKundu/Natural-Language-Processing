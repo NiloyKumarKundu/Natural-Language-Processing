{
 "cells": [
  {
   "cell_type": "code",
   "execution_count": 1,
   "id": "d6c0ec5e-7927-4216-b49e-08daddc8070a",
   "metadata": {},
   "outputs": [],
   "source": [
    "import numpy as np\n",
    "import pandas as pd"
   ]
  },
  {
   "cell_type": "code",
   "execution_count": 2,
   "id": "f2367afb-6389-42d4-bbfe-3b94b78ff739",
   "metadata": {},
   "outputs": [],
   "source": [
    "paragraph = \"\"\"\n",
    "Alexander III of Macedon (Ancient Greek: Ἀλέξανδρος, romanized: Alexandros; 20/21 July 356 BC – 10/11 June 323 BC), most commonly known as Alexander the Great,[c] was a king of the ancient Greek kingdom of Macedon.[d] He succeeded his father Philip II to the throne in 336 BC at the age of 20 and spent most of his ruling years conducting a lengthy military campaign throughout Western Asia, Central Asia, parts of South Asia, and Egypt. By the age of 30, he had created one of the largest empires in history, stretching from Greece to northwestern India.[1] He was undefeated in battle and is widely considered to be one of history's greatest and most successful military commanders.[2][3][4]\n",
    "\n",
    "Until the age of 16, Alexander was tutored by Aristotle. In 335 BC, shortly after his assumption of kingship over Macedon, he campaigned in the Balkans and reasserted control over Thrace and parts of Illyria before marching on the city of Thebes, which was subsequently destroyed in battle. Alexander then led the League of Corinth, and used his authority to launch the pan-Hellenic project envisaged by his father, assuming leadership over all Greeks in their conquest of Persia.[5][6]\n",
    "\n",
    "In 334 BC, he invaded the Achaemenid Persian Empire and began a series of campaigns that lasted for 10 years. Following his conquest of Asia Minor, Alexander broke the power of Achaemenid Persia in a series of decisive battles, including those at Issus and Gaugamela; he subsequently overthrew Darius III and conquered the Achaemenid Empire in its entirety.[e] After the fall of Persia, the Macedonian Empire held a vast swath of territory between the Adriatic Sea and the Indus River. Alexander endeavored to reach the \"ends of the world and the Great Outer Sea\" and invaded India in 326 BC, achieving an important victory over Porus, an ancient Indian king of present-day Punjab, at the Battle of the Hydaspes. Due to the demand of his homesick troops, he eventually turned back at the Beas River and later died in 323 BC in Babylon, the city of Mesopotamia that he had planned to establish as his empire's capital. Alexander's death left unexecuted an additional series of planned military and mercantile campaigns that would have begun with a Greek invasion of Arabia. In the years following his death, a series of civil wars broke out across the Macedonian Empire, eventually leading to its disintegration at the hands of the Diadochi.\n",
    "\"\"\""
   ]
  },
  {
   "cell_type": "code",
   "execution_count": 3,
   "id": "d705c00f-a0e9-4352-9607-ae471186ad29",
   "metadata": {},
   "outputs": [
    {
     "data": {
      "text/plain": [
       "'\\nAlexander III of Macedon (Ancient Greek: Ἀλέξανδρος, romanized: Alexandros; 20/21 July 356 BC – 10/11 June 323 BC), most commonly known as Alexander the Great,[c] was a king of the ancient Greek kingdom of Macedon.[d] He succeeded his father Philip II to the throne in 336 BC at the age of 20 and spent most of his ruling years conducting a lengthy military campaign throughout Western Asia, Central Asia, parts of South Asia, and Egypt. By the age of 30, he had created one of the largest empires in history, stretching from Greece to northwestern India.[1] He was undefeated in battle and is widely considered to be one of history\\'s greatest and most successful military commanders.[2][3][4]\\n\\nUntil the age of 16, Alexander was tutored by Aristotle. In 335 BC, shortly after his assumption of kingship over Macedon, he campaigned in the Balkans and reasserted control over Thrace and parts of Illyria before marching on the city of Thebes, which was subsequently destroyed in battle. Alexander then led the League of Corinth, and used his authority to launch the pan-Hellenic project envisaged by his father, assuming leadership over all Greeks in their conquest of Persia.[5][6]\\n\\nIn 334 BC, he invaded the Achaemenid Persian Empire and began a series of campaigns that lasted for 10 years. Following his conquest of Asia Minor, Alexander broke the power of Achaemenid Persia in a series of decisive battles, including those at Issus and Gaugamela; he subsequently overthrew Darius III and conquered the Achaemenid Empire in its entirety.[e] After the fall of Persia, the Macedonian Empire held a vast swath of territory between the Adriatic Sea and the Indus River. Alexander endeavored to reach the \"ends of the world and the Great Outer Sea\" and invaded India in 326 BC, achieving an important victory over Porus, an ancient Indian king of present-day Punjab, at the Battle of the Hydaspes. Due to the demand of his homesick troops, he eventually turned back at the Beas River and later died in 323 BC in Babylon, the city of Mesopotamia that he had planned to establish as his empire\\'s capital. Alexander\\'s death left unexecuted an additional series of planned military and mercantile campaigns that would have begun with a Greek invasion of Arabia. In the years following his death, a series of civil wars broke out across the Macedonian Empire, eventually leading to its disintegration at the hands of the Diadochi.\\n'"
      ]
     },
     "execution_count": 3,
     "metadata": {},
     "output_type": "execute_result"
    }
   ],
   "source": [
    "paragraph"
   ]
  },
  {
   "cell_type": "code",
   "execution_count": 6,
   "id": "fd71f3be-873c-4f05-af32-3439ab57358a",
   "metadata": {},
   "outputs": [],
   "source": [
    "import nltk\n",
    "from nltk.stem import PorterStemmer # Stemming is done using this library\n",
    "from nltk.corpus import stopwords"
   ]
  },
  {
   "cell_type": "markdown",
   "id": "490f8dec-e231-42ec-9b9a-a43f7239858c",
   "metadata": {},
   "source": [
    "## Tokenization --> Converts paragraphs-sentences-words"
   ]
  },
  {
   "cell_type": "code",
   "execution_count": 7,
   "id": "b2a9a733-ec99-4bc3-969f-8d0c5f7e25c8",
   "metadata": {},
   "outputs": [
    {
     "name": "stderr",
     "output_type": "stream",
     "text": [
      "[nltk_data] Downloading package punkt to\n",
      "[nltk_data]     C:\\Users\\nkkun\\AppData\\Roaming\\nltk_data...\n",
      "[nltk_data]   Unzipping tokenizers\\punkt.zip.\n"
     ]
    }
   ],
   "source": [
    "nltk.download('punkt') # download this package for doing the tokenization.\n",
    "sentences = nltk.sent_tokenize(paragraph)"
   ]
  },
  {
   "cell_type": "code",
   "execution_count": 8,
   "id": "64ff0dd0-56f3-4e1e-8690-9e31b4d7a873",
   "metadata": {},
   "outputs": [
    {
     "data": {
      "text/plain": [
       "['\\nAlexander III of Macedon (Ancient Greek: Ἀλέξανδρος, romanized: Alexandros; 20/21 July 356 BC – 10/11 June 323 BC), most commonly known as Alexander the Great,[c] was a king of the ancient Greek kingdom of Macedon.',\n",
       " '[d] He succeeded his father Philip II to the throne in 336 BC at the age of 20 and spent most of his ruling years conducting a lengthy military campaign throughout Western Asia, Central Asia, parts of South Asia, and Egypt.',\n",
       " 'By the age of 30, he had created one of the largest empires in history, stretching from Greece to northwestern India.',\n",
       " \"[1] He was undefeated in battle and is widely considered to be one of history's greatest and most successful military commanders.\",\n",
       " '[2][3][4]\\n\\nUntil the age of 16, Alexander was tutored by Aristotle.',\n",
       " 'In 335 BC, shortly after his assumption of kingship over Macedon, he campaigned in the Balkans and reasserted control over Thrace and parts of Illyria before marching on the city of Thebes, which was subsequently destroyed in battle.',\n",
       " 'Alexander then led the League of Corinth, and used his authority to launch the pan-Hellenic project envisaged by his father, assuming leadership over all Greeks in their conquest of Persia.',\n",
       " '[5][6]\\n\\nIn 334 BC, he invaded the Achaemenid Persian Empire and began a series of campaigns that lasted for 10 years.',\n",
       " 'Following his conquest of Asia Minor, Alexander broke the power of Achaemenid Persia in a series of decisive battles, including those at Issus and Gaugamela; he subsequently overthrew Darius III and conquered the Achaemenid Empire in its entirety.',\n",
       " '[e] After the fall of Persia, the Macedonian Empire held a vast swath of territory between the Adriatic Sea and the Indus River.',\n",
       " 'Alexander endeavored to reach the \"ends of the world and the Great Outer Sea\" and invaded India in 326 BC, achieving an important victory over Porus, an ancient Indian king of present-day Punjab, at the Battle of the Hydaspes.',\n",
       " \"Due to the demand of his homesick troops, he eventually turned back at the Beas River and later died in 323 BC in Babylon, the city of Mesopotamia that he had planned to establish as his empire's capital.\",\n",
       " \"Alexander's death left unexecuted an additional series of planned military and mercantile campaigns that would have begun with a Greek invasion of Arabia.\",\n",
       " 'In the years following his death, a series of civil wars broke out across the Macedonian Empire, eventually leading to its disintegration at the hands of the Diadochi.']"
      ]
     },
     "execution_count": 8,
     "metadata": {},
     "output_type": "execute_result"
    }
   ],
   "source": [
    "sentences"
   ]
  },
  {
   "cell_type": "code",
   "execution_count": 9,
   "id": "09a09fff-4891-40c2-be27-808bcfc515e2",
   "metadata": {},
   "outputs": [
    {
     "data": {
      "text/plain": [
       "list"
      ]
     },
     "execution_count": 9,
     "metadata": {},
     "output_type": "execute_result"
    }
   ],
   "source": [
    "type(sentences)"
   ]
  },
  {
   "cell_type": "markdown",
   "id": "2a96ad16-8394-4c6a-92f9-4f090d9f7124",
   "metadata": {},
   "source": [
    "### Stemming --> Find out the base root word"
   ]
  },
  {
   "cell_type": "code",
   "execution_count": 10,
   "id": "c4091cdb-6a94-4ba7-aafc-9b8909b995e2",
   "metadata": {},
   "outputs": [],
   "source": [
    "stemmer = PorterStemmer()"
   ]
  },
  {
   "cell_type": "code",
   "execution_count": 11,
   "id": "99f7dc1a-3829-413d-856c-bc6410b1abd2",
   "metadata": {},
   "outputs": [
    {
     "data": {
      "text/plain": [
       "'go'"
      ]
     },
     "execution_count": 11,
     "metadata": {},
     "output_type": "execute_result"
    }
   ],
   "source": [
    "stemmer.stem('going')"
   ]
  },
  {
   "cell_type": "code",
   "execution_count": 12,
   "id": "21103810-82a7-4cfb-9cf8-beac0d85b753",
   "metadata": {},
   "outputs": [
    {
     "data": {
      "text/plain": [
       "'facial'"
      ]
     },
     "execution_count": 12,
     "metadata": {},
     "output_type": "execute_result"
    }
   ],
   "source": [
    "stemmer.stem('facial')"
   ]
  },
  {
   "cell_type": "code",
   "execution_count": 13,
   "id": "000b5703-f923-4c64-a1eb-5ec1eed06e3f",
   "metadata": {},
   "outputs": [
    {
     "data": {
      "text/plain": [
       "'think'"
      ]
     },
     "execution_count": 13,
     "metadata": {},
     "output_type": "execute_result"
    }
   ],
   "source": [
    "stemmer.stem('thinking')"
   ]
  },
  {
   "cell_type": "code",
   "execution_count": 14,
   "id": "3e459b15-3218-468c-84ac-2433c6dae580",
   "metadata": {},
   "outputs": [
    {
     "data": {
      "text/plain": [
       "'histori'"
      ]
     },
     "execution_count": 14,
     "metadata": {},
     "output_type": "execute_result"
    }
   ],
   "source": [
    "stemmer.stem('history')"
   ]
  },
  {
   "cell_type": "markdown",
   "id": "77977b7e-d990-44ff-9bce-b115a35ee083",
   "metadata": {},
   "source": [
    "### Lemmatizer --> Find out the base word with proper spelling"
   ]
  },
  {
   "cell_type": "code",
   "execution_count": 19,
   "id": "07368fb1-5b1a-4527-9ed5-07916fd958e9",
   "metadata": {},
   "outputs": [
    {
     "name": "stderr",
     "output_type": "stream",
     "text": [
      "[nltk_data] Downloading package wordnet to\n",
      "[nltk_data]     C:\\Users\\nkkun\\AppData\\Roaming\\nltk_data...\n"
     ]
    },
    {
     "data": {
      "text/plain": [
       "True"
      ]
     },
     "execution_count": 19,
     "metadata": {},
     "output_type": "execute_result"
    }
   ],
   "source": [
    "from nltk.stem import WordNetLemmatizer\n",
    "nltk.download('wordnet')"
   ]
  },
  {
   "cell_type": "code",
   "execution_count": 20,
   "id": "1934e51b-6e5c-4623-90c6-e909bd3206bf",
   "metadata": {},
   "outputs": [],
   "source": [
    "lemmatizer = WordNetLemmatizer()"
   ]
  },
  {
   "cell_type": "code",
   "execution_count": 21,
   "id": "444a2ddb-922b-4bd9-bb27-36854735c40e",
   "metadata": {},
   "outputs": [
    {
     "data": {
      "text/plain": [
       "'history'"
      ]
     },
     "execution_count": 21,
     "metadata": {},
     "output_type": "execute_result"
    }
   ],
   "source": [
    "lemmatizer.lemmatize('history')"
   ]
  },
  {
   "cell_type": "code",
   "execution_count": 22,
   "id": "2dd887ff-6386-42e5-aab8-2d6bd6bace0f",
   "metadata": {},
   "outputs": [
    {
     "data": {
      "text/plain": [
       "'drinking'"
      ]
     },
     "execution_count": 22,
     "metadata": {},
     "output_type": "execute_result"
    }
   ],
   "source": [
    "lemmatizer.lemmatize('drinking')"
   ]
  },
  {
   "cell_type": "code",
   "execution_count": 23,
   "id": "8b4e0aeb-839b-461c-97e5-a1404d84d01d",
   "metadata": {},
   "outputs": [
    {
     "data": {
      "text/plain": [
       "'go'"
      ]
     },
     "execution_count": 23,
     "metadata": {},
     "output_type": "execute_result"
    }
   ],
   "source": [
    "lemmatizer.lemmatize('goes')"
   ]
  },
  {
   "cell_type": "markdown",
   "id": "19bbf15c-b297-43f7-83e9-fab5431cdedb",
   "metadata": {},
   "source": [
    "## Clean Special Characters"
   ]
  },
  {
   "cell_type": "code",
   "execution_count": 24,
   "id": "2ea92630-16a9-4121-ae49-e55a9c06c94a",
   "metadata": {},
   "outputs": [
    {
     "data": {
      "text/plain": [
       "14"
      ]
     },
     "execution_count": 24,
     "metadata": {},
     "output_type": "execute_result"
    }
   ],
   "source": [
    "len(sentences)"
   ]
  },
  {
   "cell_type": "code",
   "execution_count": 26,
   "id": "8b58bd24-f36e-49dc-b7e7-4b8a4cf0ea52",
   "metadata": {},
   "outputs": [],
   "source": [
    "import re\n",
    "corpus = []\n",
    "for i in range(len(sentences)):\n",
    "    review = re.sub('[^a-zA-Z]', ' ', sentences[i]) # all the characters will be replaced other than a-zA-z\n",
    "    review = review.lower()\n",
    "    corpus.append(review)"
   ]
  },
  {
   "cell_type": "code",
   "execution_count": 27,
   "id": "a219306b-9e74-4128-818d-44ebf2acbe52",
   "metadata": {},
   "outputs": [
    {
     "data": {
      "text/plain": [
       "[' alexander iii of macedon  ancient greek              romanized  alexandros        july     bc         june     bc   most commonly known as alexander the great  c  was a king of the ancient greek kingdom of macedon ',\n",
       " ' d  he succeeded his father philip ii to the throne in     bc at the age of    and spent most of his ruling years conducting a lengthy military campaign throughout western asia  central asia  parts of south asia  and egypt ',\n",
       " 'by the age of     he had created one of the largest empires in history  stretching from greece to northwestern india ',\n",
       " '    he was undefeated in battle and is widely considered to be one of history s greatest and most successful military commanders ',\n",
       " '           until the age of     alexander was tutored by aristotle ',\n",
       " 'in     bc  shortly after his assumption of kingship over macedon  he campaigned in the balkans and reasserted control over thrace and parts of illyria before marching on the city of thebes  which was subsequently destroyed in battle ',\n",
       " 'alexander then led the league of corinth  and used his authority to launch the pan hellenic project envisaged by his father  assuming leadership over all greeks in their conquest of persia ',\n",
       " '        in     bc  he invaded the achaemenid persian empire and began a series of campaigns that lasted for    years ',\n",
       " 'following his conquest of asia minor  alexander broke the power of achaemenid persia in a series of decisive battles  including those at issus and gaugamela  he subsequently overthrew darius iii and conquered the achaemenid empire in its entirety ',\n",
       " ' e  after the fall of persia  the macedonian empire held a vast swath of territory between the adriatic sea and the indus river ',\n",
       " 'alexander endeavored to reach the  ends of the world and the great outer sea  and invaded india in     bc  achieving an important victory over porus  an ancient indian king of present day punjab  at the battle of the hydaspes ',\n",
       " 'due to the demand of his homesick troops  he eventually turned back at the beas river and later died in     bc in babylon  the city of mesopotamia that he had planned to establish as his empire s capital ',\n",
       " 'alexander s death left unexecuted an additional series of planned military and mercantile campaigns that would have begun with a greek invasion of arabia ',\n",
       " 'in the years following his death  a series of civil wars broke out across the macedonian empire  eventually leading to its disintegration at the hands of the diadochi ']"
      ]
     },
     "execution_count": 27,
     "metadata": {},
     "output_type": "execute_result"
    }
   ],
   "source": [
    "corpus"
   ]
  },
  {
   "cell_type": "markdown",
   "id": "cf77823e-c348-486e-b97f-9e57dcb9aba9",
   "metadata": {},
   "source": [
    "### Stemming (This way we can also apply lemmatization)"
   ]
  },
  {
   "cell_type": "code",
   "execution_count": 30,
   "id": "789bbd58-85aa-48cc-967b-9f5a4114c54f",
   "metadata": {},
   "outputs": [
    {
     "name": "stderr",
     "output_type": "stream",
     "text": [
      "[nltk_data] Downloading package stopwords to\n",
      "[nltk_data]     C:\\Users\\nkkun\\AppData\\Roaming\\nltk_data...\n",
      "[nltk_data]   Unzipping corpora\\stopwords.zip.\n"
     ]
    },
    {
     "data": {
      "text/plain": [
       "True"
      ]
     },
     "execution_count": 30,
     "metadata": {},
     "output_type": "execute_result"
    }
   ],
   "source": [
    "nltk.download('stopwords')"
   ]
  },
  {
   "cell_type": "code",
   "execution_count": 32,
   "id": "abc00d4b-2cec-4dda-aab2-008986188bc2",
   "metadata": {},
   "outputs": [
    {
     "data": {
      "text/plain": [
       "['i',\n",
       " 'me',\n",
       " 'my',\n",
       " 'myself',\n",
       " 'we',\n",
       " 'our',\n",
       " 'ours',\n",
       " 'ourselves',\n",
       " 'you',\n",
       " \"you're\",\n",
       " \"you've\",\n",
       " \"you'll\",\n",
       " \"you'd\",\n",
       " 'your',\n",
       " 'yours',\n",
       " 'yourself',\n",
       " 'yourselves',\n",
       " 'he',\n",
       " 'him',\n",
       " 'his',\n",
       " 'himself',\n",
       " 'she',\n",
       " \"she's\",\n",
       " 'her',\n",
       " 'hers',\n",
       " 'herself',\n",
       " 'it',\n",
       " \"it's\",\n",
       " 'its',\n",
       " 'itself',\n",
       " 'they',\n",
       " 'them',\n",
       " 'their',\n",
       " 'theirs',\n",
       " 'themselves',\n",
       " 'what',\n",
       " 'which',\n",
       " 'who',\n",
       " 'whom',\n",
       " 'this',\n",
       " 'that',\n",
       " \"that'll\",\n",
       " 'these',\n",
       " 'those',\n",
       " 'am',\n",
       " 'is',\n",
       " 'are',\n",
       " 'was',\n",
       " 'were',\n",
       " 'be',\n",
       " 'been',\n",
       " 'being',\n",
       " 'have',\n",
       " 'has',\n",
       " 'had',\n",
       " 'having',\n",
       " 'do',\n",
       " 'does',\n",
       " 'did',\n",
       " 'doing',\n",
       " 'a',\n",
       " 'an',\n",
       " 'the',\n",
       " 'and',\n",
       " 'but',\n",
       " 'if',\n",
       " 'or',\n",
       " 'because',\n",
       " 'as',\n",
       " 'until',\n",
       " 'while',\n",
       " 'of',\n",
       " 'at',\n",
       " 'by',\n",
       " 'for',\n",
       " 'with',\n",
       " 'about',\n",
       " 'against',\n",
       " 'between',\n",
       " 'into',\n",
       " 'through',\n",
       " 'during',\n",
       " 'before',\n",
       " 'after',\n",
       " 'above',\n",
       " 'below',\n",
       " 'to',\n",
       " 'from',\n",
       " 'up',\n",
       " 'down',\n",
       " 'in',\n",
       " 'out',\n",
       " 'on',\n",
       " 'off',\n",
       " 'over',\n",
       " 'under',\n",
       " 'again',\n",
       " 'further',\n",
       " 'then',\n",
       " 'once',\n",
       " 'here',\n",
       " 'there',\n",
       " 'when',\n",
       " 'where',\n",
       " 'why',\n",
       " 'how',\n",
       " 'all',\n",
       " 'any',\n",
       " 'both',\n",
       " 'each',\n",
       " 'few',\n",
       " 'more',\n",
       " 'most',\n",
       " 'other',\n",
       " 'some',\n",
       " 'such',\n",
       " 'no',\n",
       " 'nor',\n",
       " 'not',\n",
       " 'only',\n",
       " 'own',\n",
       " 'same',\n",
       " 'so',\n",
       " 'than',\n",
       " 'too',\n",
       " 'very',\n",
       " 's',\n",
       " 't',\n",
       " 'can',\n",
       " 'will',\n",
       " 'just',\n",
       " 'don',\n",
       " \"don't\",\n",
       " 'should',\n",
       " \"should've\",\n",
       " 'now',\n",
       " 'd',\n",
       " 'll',\n",
       " 'm',\n",
       " 'o',\n",
       " 're',\n",
       " 've',\n",
       " 'y',\n",
       " 'ain',\n",
       " 'aren',\n",
       " \"aren't\",\n",
       " 'couldn',\n",
       " \"couldn't\",\n",
       " 'didn',\n",
       " \"didn't\",\n",
       " 'doesn',\n",
       " \"doesn't\",\n",
       " 'hadn',\n",
       " \"hadn't\",\n",
       " 'hasn',\n",
       " \"hasn't\",\n",
       " 'haven',\n",
       " \"haven't\",\n",
       " 'isn',\n",
       " \"isn't\",\n",
       " 'ma',\n",
       " 'mightn',\n",
       " \"mightn't\",\n",
       " 'mustn',\n",
       " \"mustn't\",\n",
       " 'needn',\n",
       " \"needn't\",\n",
       " 'shan',\n",
       " \"shan't\",\n",
       " 'shouldn',\n",
       " \"shouldn't\",\n",
       " 'wasn',\n",
       " \"wasn't\",\n",
       " 'weren',\n",
       " \"weren't\",\n",
       " 'won',\n",
       " \"won't\",\n",
       " 'wouldn',\n",
       " \"wouldn't\"]"
      ]
     },
     "execution_count": 32,
     "metadata": {},
     "output_type": "execute_result"
    }
   ],
   "source": [
    "stopwords.words('english')"
   ]
  },
  {
   "cell_type": "code",
   "execution_count": 31,
   "id": "d4d5e074-92b8-4350-9615-4500992bea5e",
   "metadata": {},
   "outputs": [
    {
     "name": "stdout",
     "output_type": "stream",
     "text": [
      "alexand\n",
      "iii\n",
      "macedon\n",
      "ancient\n",
      "greek\n",
      "roman\n",
      "alexandro\n",
      "juli\n",
      "bc\n",
      "june\n",
      "bc\n",
      "commonli\n",
      "known\n",
      "alexand\n",
      "great\n",
      "c\n",
      "king\n",
      "ancient\n",
      "greek\n",
      "kingdom\n",
      "macedon\n",
      "succeed\n",
      "father\n",
      "philip\n",
      "ii\n",
      "throne\n",
      "bc\n",
      "age\n",
      "spent\n",
      "rule\n",
      "year\n",
      "conduct\n",
      "lengthi\n",
      "militari\n",
      "campaign\n",
      "throughout\n",
      "western\n",
      "asia\n",
      "central\n",
      "asia\n",
      "part\n",
      "south\n",
      "asia\n",
      "egypt\n",
      "age\n",
      "creat\n",
      "one\n",
      "largest\n",
      "empir\n",
      "histori\n",
      "stretch\n",
      "greec\n",
      "northwestern\n",
      "india\n",
      "undef\n",
      "battl\n",
      "wide\n",
      "consid\n",
      "one\n",
      "histori\n",
      "greatest\n",
      "success\n",
      "militari\n",
      "command\n",
      "age\n",
      "alexand\n",
      "tutor\n",
      "aristotl\n",
      "bc\n",
      "shortli\n",
      "assumpt\n",
      "kingship\n",
      "macedon\n",
      "campaign\n",
      "balkan\n",
      "reassert\n",
      "control\n",
      "thrace\n",
      "part\n",
      "illyria\n",
      "march\n",
      "citi\n",
      "thebe\n",
      "subsequ\n",
      "destroy\n",
      "battl\n",
      "alexand\n",
      "led\n",
      "leagu\n",
      "corinth\n",
      "use\n",
      "author\n",
      "launch\n",
      "pan\n",
      "hellen\n",
      "project\n",
      "envisag\n",
      "father\n",
      "assum\n",
      "leadership\n",
      "greek\n",
      "conquest\n",
      "persia\n",
      "bc\n",
      "invad\n",
      "achaemenid\n",
      "persian\n",
      "empir\n",
      "began\n",
      "seri\n",
      "campaign\n",
      "last\n",
      "year\n",
      "follow\n",
      "conquest\n",
      "asia\n",
      "minor\n",
      "alexand\n",
      "broke\n",
      "power\n",
      "achaemenid\n",
      "persia\n",
      "seri\n",
      "decis\n",
      "battl\n",
      "includ\n",
      "issu\n",
      "gaugamela\n",
      "subsequ\n",
      "overthrew\n",
      "dariu\n",
      "iii\n",
      "conquer\n",
      "achaemenid\n",
      "empir\n",
      "entireti\n",
      "e\n",
      "fall\n",
      "persia\n",
      "macedonian\n",
      "empir\n",
      "held\n",
      "vast\n",
      "swath\n",
      "territori\n",
      "adriat\n",
      "sea\n",
      "indu\n",
      "river\n",
      "alexand\n",
      "endeavor\n",
      "reach\n",
      "end\n",
      "world\n",
      "great\n",
      "outer\n",
      "sea\n",
      "invad\n",
      "india\n",
      "bc\n",
      "achiev\n",
      "import\n",
      "victori\n",
      "poru\n",
      "ancient\n",
      "indian\n",
      "king\n",
      "present\n",
      "day\n",
      "punjab\n",
      "battl\n",
      "hydasp\n",
      "due\n",
      "demand\n",
      "homesick\n",
      "troop\n",
      "eventu\n",
      "turn\n",
      "back\n",
      "bea\n",
      "river\n",
      "later\n",
      "die\n",
      "bc\n",
      "babylon\n",
      "citi\n",
      "mesopotamia\n",
      "plan\n",
      "establish\n",
      "empir\n",
      "capit\n",
      "alexand\n",
      "death\n",
      "left\n",
      "unexecut\n",
      "addit\n",
      "seri\n",
      "plan\n",
      "militari\n",
      "mercantil\n",
      "campaign\n",
      "would\n",
      "begun\n",
      "greek\n",
      "invas\n",
      "arabia\n",
      "year\n",
      "follow\n",
      "death\n",
      "seri\n",
      "civil\n",
      "war\n",
      "broke\n",
      "across\n",
      "macedonian\n",
      "empir\n",
      "eventu\n",
      "lead\n",
      "disintegr\n",
      "hand\n",
      "diadochi\n"
     ]
    }
   ],
   "source": [
    "for i in corpus:\n",
    "    words = nltk.word_tokenize(i)\n",
    "    for word in words:\n",
    "        if word not in set(stopwords.words('english')):\n",
    "            print(stemmer.stem(word))"
   ]
  },
  {
   "cell_type": "code",
   "execution_count": 33,
   "id": "4c3dda41-e474-44a5-a2b2-613eafb4449b",
   "metadata": {},
   "outputs": [
    {
     "name": "stdout",
     "output_type": "stream",
     "text": [
      "alexander\n",
      "iii\n",
      "macedon\n",
      "ancient\n",
      "greek\n",
      "romanized\n",
      "alexandros\n",
      "july\n",
      "bc\n",
      "june\n",
      "bc\n",
      "commonly\n",
      "known\n",
      "alexander\n",
      "great\n",
      "c\n",
      "king\n",
      "ancient\n",
      "greek\n",
      "kingdom\n",
      "macedon\n",
      "succeeded\n",
      "father\n",
      "philip\n",
      "ii\n",
      "throne\n",
      "bc\n",
      "age\n",
      "spent\n",
      "ruling\n",
      "year\n",
      "conducting\n",
      "lengthy\n",
      "military\n",
      "campaign\n",
      "throughout\n",
      "western\n",
      "asia\n",
      "central\n",
      "asia\n",
      "part\n",
      "south\n",
      "asia\n",
      "egypt\n",
      "age\n",
      "created\n",
      "one\n",
      "largest\n",
      "empire\n",
      "history\n",
      "stretching\n",
      "greece\n",
      "northwestern\n",
      "india\n",
      "undefeated\n",
      "battle\n",
      "widely\n",
      "considered\n",
      "one\n",
      "history\n",
      "greatest\n",
      "successful\n",
      "military\n",
      "commander\n",
      "age\n",
      "alexander\n",
      "tutored\n",
      "aristotle\n",
      "bc\n",
      "shortly\n",
      "assumption\n",
      "kingship\n",
      "macedon\n",
      "campaigned\n",
      "balkan\n",
      "reasserted\n",
      "control\n",
      "thrace\n",
      "part\n",
      "illyria\n",
      "marching\n",
      "city\n",
      "thebe\n",
      "subsequently\n",
      "destroyed\n",
      "battle\n",
      "alexander\n",
      "led\n",
      "league\n",
      "corinth\n",
      "used\n",
      "authority\n",
      "launch\n",
      "pan\n",
      "hellenic\n",
      "project\n",
      "envisaged\n",
      "father\n",
      "assuming\n",
      "leadership\n",
      "greek\n",
      "conquest\n",
      "persia\n",
      "bc\n",
      "invaded\n",
      "achaemenid\n",
      "persian\n",
      "empire\n",
      "began\n",
      "series\n",
      "campaign\n",
      "lasted\n",
      "year\n",
      "following\n",
      "conquest\n",
      "asia\n",
      "minor\n",
      "alexander\n",
      "broke\n",
      "power\n",
      "achaemenid\n",
      "persia\n",
      "series\n",
      "decisive\n",
      "battle\n",
      "including\n",
      "issus\n",
      "gaugamela\n",
      "subsequently\n",
      "overthrew\n",
      "darius\n",
      "iii\n",
      "conquered\n",
      "achaemenid\n",
      "empire\n",
      "entirety\n",
      "e\n",
      "fall\n",
      "persia\n",
      "macedonian\n",
      "empire\n",
      "held\n",
      "vast\n",
      "swath\n",
      "territory\n",
      "adriatic\n",
      "sea\n",
      "indus\n",
      "river\n",
      "alexander\n",
      "endeavored\n",
      "reach\n",
      "end\n",
      "world\n",
      "great\n",
      "outer\n",
      "sea\n",
      "invaded\n",
      "india\n",
      "bc\n",
      "achieving\n",
      "important\n",
      "victory\n",
      "porus\n",
      "ancient\n",
      "indian\n",
      "king\n",
      "present\n",
      "day\n",
      "punjab\n",
      "battle\n",
      "hydaspes\n",
      "due\n",
      "demand\n",
      "homesick\n",
      "troop\n",
      "eventually\n",
      "turned\n",
      "back\n",
      "beas\n",
      "river\n",
      "later\n",
      "died\n",
      "bc\n",
      "babylon\n",
      "city\n",
      "mesopotamia\n",
      "planned\n",
      "establish\n",
      "empire\n",
      "capital\n",
      "alexander\n",
      "death\n",
      "left\n",
      "unexecuted\n",
      "additional\n",
      "series\n",
      "planned\n",
      "military\n",
      "mercantile\n",
      "campaign\n",
      "would\n",
      "begun\n",
      "greek\n",
      "invasion\n",
      "arabia\n",
      "year\n",
      "following\n",
      "death\n",
      "series\n",
      "civil\n",
      "war\n",
      "broke\n",
      "across\n",
      "macedonian\n",
      "empire\n",
      "eventually\n",
      "leading\n",
      "disintegration\n",
      "hand\n",
      "diadochi\n"
     ]
    }
   ],
   "source": [
    "## Lemmatization\n",
    "\n",
    "for i in corpus:\n",
    "    words = nltk.word_tokenize(i)\n",
    "    for word in words:\n",
    "        if word not in set(stopwords.words('english')):\n",
    "            print(lemmatizer.lemmatize(word))"
   ]
  },
  {
   "cell_type": "markdown",
   "id": "875084c7-36fa-402d-82bc-ed4c91f227f0",
   "metadata": {},
   "source": [
    "## Apply Stopwords. Lemmatize"
   ]
  },
  {
   "cell_type": "code",
   "execution_count": 50,
   "id": "13f7a6fe-361e-4a8c-ab23-0949a9eeae76",
   "metadata": {},
   "outputs": [],
   "source": [
    "import re\n",
    "corpus = []\n",
    "for i in range(len(sentences)):\n",
    "    review = re.sub('[^a-zA-Z]', ' ', sentences[i])\n",
    "    review = review.lower()\n",
    "    review = review.split()\n",
    "    review = [lemmatizer.lemmatize(word) for word in review if not word in set(stopwords.words('english'))]\n",
    "    review = ' '.join(review)\n",
    "    corpus.append(review)"
   ]
  },
  {
   "cell_type": "markdown",
   "id": "b49e5cda-7d68-46ae-8b7d-851d1784784f",
   "metadata": {},
   "source": [
    "## Bag of words"
   ]
  },
  {
   "cell_type": "code",
   "execution_count": 51,
   "id": "06857829-fc9c-424a-981a-33e16ef23994",
   "metadata": {},
   "outputs": [],
   "source": [
    "from sklearn.feature_extraction.text import CountVectorizer"
   ]
  },
  {
   "cell_type": "code",
   "execution_count": 52,
   "id": "a1a746cf-5a4c-4073-b378-03b52a191278",
   "metadata": {},
   "outputs": [],
   "source": [
    "cv = CountVectorizer(binary=True) # Binary is optional"
   ]
  },
  {
   "cell_type": "code",
   "execution_count": 53,
   "id": "131bd454-6c81-41f0-8696-a51eccec3a07",
   "metadata": {},
   "outputs": [],
   "source": [
    "X = cv.fit_transform(corpus)"
   ]
  },
  {
   "cell_type": "code",
   "execution_count": 54,
   "id": "7e967677-7c77-4185-ae50-c1bc1750ebf9",
   "metadata": {},
   "outputs": [
    {
     "data": {
      "text/plain": [
       "{'alexander': 6,\n",
       " 'iii': 72,\n",
       " 'macedon': 98,\n",
       " 'ancient': 8,\n",
       " 'greek': 64,\n",
       " 'romanized': 123,\n",
       " 'alexandros': 7,\n",
       " 'july': 82,\n",
       " 'bc': 19,\n",
       " 'june': 83,\n",
       " 'commonly': 31,\n",
       " 'known': 87,\n",
       " 'great': 61,\n",
       " 'king': 84,\n",
       " 'kingdom': 85,\n",
       " 'succeeded': 132,\n",
       " 'father': 58,\n",
       " 'philip': 113,\n",
       " 'ii': 71,\n",
       " 'throne': 138,\n",
       " 'age': 5,\n",
       " 'spent': 129,\n",
       " 'ruling': 124,\n",
       " 'year': 153,\n",
       " 'conducting': 32,\n",
       " 'lengthy': 97,\n",
       " 'military': 103,\n",
       " 'campaign': 24,\n",
       " 'throughout': 139,\n",
       " 'western': 149,\n",
       " 'asia': 11,\n",
       " 'central': 27,\n",
       " 'part': 110,\n",
       " 'south': 128,\n",
       " 'egypt': 49,\n",
       " 'created': 38,\n",
       " 'one': 106,\n",
       " 'largest': 88,\n",
       " 'empire': 50,\n",
       " 'history': 68,\n",
       " 'stretching': 130,\n",
       " 'greece': 63,\n",
       " 'northwestern': 105,\n",
       " 'india': 76,\n",
       " 'undefeated': 143,\n",
       " 'battle': 18,\n",
       " 'widely': 150,\n",
       " 'considered': 35,\n",
       " 'greatest': 62,\n",
       " 'successful': 133,\n",
       " 'commander': 30,\n",
       " 'tutored': 142,\n",
       " 'aristotle': 10,\n",
       " 'shortly': 127,\n",
       " 'assumption': 13,\n",
       " 'kingship': 86,\n",
       " 'campaigned': 25,\n",
       " 'balkan': 17,\n",
       " 'reasserted': 121,\n",
       " 'control': 36,\n",
       " 'thrace': 137,\n",
       " 'illyria': 73,\n",
       " 'marching': 100,\n",
       " 'city': 28,\n",
       " 'thebe': 136,\n",
       " 'subsequently': 131,\n",
       " 'destroyed': 44,\n",
       " 'led': 95,\n",
       " 'league': 94,\n",
       " 'corinth': 37,\n",
       " 'used': 145,\n",
       " 'authority': 14,\n",
       " 'launch': 91,\n",
       " 'pan': 109,\n",
       " 'hellenic': 67,\n",
       " 'project': 118,\n",
       " 'envisaged': 54,\n",
       " 'assuming': 12,\n",
       " 'leadership': 92,\n",
       " 'conquest': 34,\n",
       " 'persia': 111,\n",
       " 'invaded': 79,\n",
       " 'achaemenid': 0,\n",
       " 'persian': 112,\n",
       " 'began': 21,\n",
       " 'series': 126,\n",
       " 'lasted': 89,\n",
       " 'following': 59,\n",
       " 'minor': 104,\n",
       " 'broke': 23,\n",
       " 'power': 116,\n",
       " 'decisive': 42,\n",
       " 'including': 75,\n",
       " 'issus': 81,\n",
       " 'gaugamela': 60,\n",
       " 'overthrew': 108,\n",
       " 'darius': 39,\n",
       " 'conquered': 33,\n",
       " 'entirety': 53,\n",
       " 'fall': 57,\n",
       " 'macedonian': 99,\n",
       " 'held': 66,\n",
       " 'vast': 146,\n",
       " 'swath': 134,\n",
       " 'territory': 135,\n",
       " 'adriatic': 4,\n",
       " 'sea': 125,\n",
       " 'indus': 78,\n",
       " 'river': 122,\n",
       " 'endeavored': 52,\n",
       " 'reach': 120,\n",
       " 'end': 51,\n",
       " 'world': 151,\n",
       " 'outer': 107,\n",
       " 'achieving': 1,\n",
       " 'important': 74,\n",
       " 'victory': 147,\n",
       " 'porus': 115,\n",
       " 'indian': 77,\n",
       " 'present': 117,\n",
       " 'day': 40,\n",
       " 'punjab': 119,\n",
       " 'hydaspes': 70,\n",
       " 'due': 48,\n",
       " 'demand': 43,\n",
       " 'homesick': 69,\n",
       " 'troop': 140,\n",
       " 'eventually': 56,\n",
       " 'turned': 141,\n",
       " 'back': 16,\n",
       " 'beas': 20,\n",
       " 'later': 90,\n",
       " 'died': 46,\n",
       " 'babylon': 15,\n",
       " 'mesopotamia': 102,\n",
       " 'planned': 114,\n",
       " 'establish': 55,\n",
       " 'capital': 26,\n",
       " 'death': 41,\n",
       " 'left': 96,\n",
       " 'unexecuted': 144,\n",
       " 'additional': 3,\n",
       " 'mercantile': 101,\n",
       " 'would': 152,\n",
       " 'begun': 22,\n",
       " 'invasion': 80,\n",
       " 'arabia': 9,\n",
       " 'civil': 29,\n",
       " 'war': 148,\n",
       " 'across': 2,\n",
       " 'leading': 93,\n",
       " 'disintegration': 47,\n",
       " 'hand': 65,\n",
       " 'diadochi': 45}"
      ]
     },
     "execution_count": 54,
     "metadata": {},
     "output_type": "execute_result"
    }
   ],
   "source": [
    "cv.vocabulary_  ## Represents the index of the vectorizer"
   ]
  },
  {
   "cell_type": "code",
   "execution_count": 55,
   "id": "b8f0f3a5-1ac1-4f07-8233-88c08a788478",
   "metadata": {},
   "outputs": [
    {
     "data": {
      "text/plain": [
       "'alexander iii macedon ancient greek romanized alexandros july bc june bc commonly known alexander great c king ancient greek kingdom macedon'"
      ]
     },
     "execution_count": 55,
     "metadata": {},
     "output_type": "execute_result"
    }
   ],
   "source": [
    "corpus[0]"
   ]
  },
  {
   "cell_type": "code",
   "execution_count": 56,
   "id": "709add7b-31b6-4fc5-92ef-e421f9ab2949",
   "metadata": {},
   "outputs": [
    {
     "data": {
      "text/plain": [
       "array([[0, 0, 0, 0, 0, 0, 1, 1, 1, 0, 0, 0, 0, 0, 0, 0, 0, 0, 0, 1, 0, 0,\n",
       "        0, 0, 0, 0, 0, 0, 0, 0, 0, 1, 0, 0, 0, 0, 0, 0, 0, 0, 0, 0, 0, 0,\n",
       "        0, 0, 0, 0, 0, 0, 0, 0, 0, 0, 0, 0, 0, 0, 0, 0, 0, 1, 0, 0, 1, 0,\n",
       "        0, 0, 0, 0, 0, 0, 1, 0, 0, 0, 0, 0, 0, 0, 0, 0, 1, 1, 1, 1, 0, 1,\n",
       "        0, 0, 0, 0, 0, 0, 0, 0, 0, 0, 1, 0, 0, 0, 0, 0, 0, 0, 0, 0, 0, 0,\n",
       "        0, 0, 0, 0, 0, 0, 0, 0, 0, 0, 0, 0, 0, 1, 0, 0, 0, 0, 0, 0, 0, 0,\n",
       "        0, 0, 0, 0, 0, 0, 0, 0, 0, 0, 0, 0, 0, 0, 0, 0, 0, 0, 0, 0, 0, 0]],\n",
       "      dtype=int64)"
      ]
     },
     "execution_count": 56,
     "metadata": {},
     "output_type": "execute_result"
    }
   ],
   "source": [
    "X[0].toarray()"
   ]
  },
  {
   "cell_type": "code",
   "execution_count": 57,
   "id": "ec197321-244c-4ff2-a1d7-d7d3182bd7a5",
   "metadata": {},
   "outputs": [
    {
     "data": {
      "text/plain": [
       "(1, 154)"
      ]
     },
     "execution_count": 57,
     "metadata": {},
     "output_type": "execute_result"
    }
   ],
   "source": [
    "X[0].toarray().shape"
   ]
  },
  {
   "cell_type": "code",
   "execution_count": null,
   "id": "778b47be-1eb1-40a7-bb1a-4d4c31379d1d",
   "metadata": {},
   "outputs": [],
   "source": []
  }
 ],
 "metadata": {
  "kernelspec": {
   "display_name": "env",
   "language": "python",
   "name": "env"
  },
  "language_info": {
   "codemirror_mode": {
    "name": "ipython",
    "version": 3
   },
   "file_extension": ".py",
   "mimetype": "text/x-python",
   "name": "python",
   "nbconvert_exporter": "python",
   "pygments_lexer": "ipython3",
   "version": "3.12.3"
  }
 },
 "nbformat": 4,
 "nbformat_minor": 5
}
