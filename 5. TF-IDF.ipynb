{
 "cells": [
  {
   "cell_type": "code",
   "execution_count": 1,
   "id": "d6c0ec5e-7927-4216-b49e-08daddc8070a",
   "metadata": {},
   "outputs": [],
   "source": [
    "import nltk"
   ]
  },
  {
   "cell_type": "code",
   "execution_count": 2,
   "id": "f2367afb-6389-42d4-bbfe-3b94b78ff739",
   "metadata": {},
   "outputs": [],
   "source": [
    "paragraph = \"\"\"\n",
    "Police units around the world have joined forces in a series of covert operations targeting one of West Africa’s most feared criminal networks - Black Axe.\n",
    "Operation Jackal III saw officers in body armour carry out raids in 21 countries between April and July 2024.\n",
    "The mission, co-ordinated by global policing agency Interpol, led to the arrest of 300 people with links to Black Axe and other affiliated groups.\n",
    "Interpol called the operation a “major blow” to the Nigerian crime network, but warned that its international reach and technological sophistication mean it remains a global threat.\n",
    "In one notorious example, Canadian authorities said they had busted a money-laundering scheme linked to Black Axe worth more than $5bn (£3.8bn) in 2017.\n",
    "“They are very organised and very structured,” Tomonobu Kaya, a senior official at Interpol’s Financial Crime and Anti-Corruption Centre, told the BBC.\n",
    "According to a 2022 report by Interpol, “Black Axe and similar groups are responsible for the majority of the world’s cyber-enabled financial fraud as well as many other serious crimes”.\n",
    "Mr Kaya said innovations in money-transfer software and cryptocurrency have played into the hands of group, which are renowned for multi-million dollar online scams.\n",
    "“These criminal syndicates are early adopters of new technologies… A lot of fintech developments make it really easy to illegally move money around the world,” he said.\n",
    "\"\"\""
   ]
  },
  {
   "cell_type": "code",
   "execution_count": 3,
   "id": "d705c00f-a0e9-4352-9607-ae471186ad29",
   "metadata": {},
   "outputs": [
    {
     "data": {
      "text/plain": [
       "'\\nPolice units around the world have joined forces in a series of covert operations targeting one of West Africa’s most feared criminal networks - Black Axe.\\nOperation Jackal III saw officers in body armour carry out raids in 21 countries between April and July 2024.\\nThe mission, co-ordinated by global policing agency Interpol, led to the arrest of 300 people with links to Black Axe and other affiliated groups.\\nInterpol called the operation a “major blow” to the Nigerian crime network, but warned that its international reach and technological sophistication mean it remains a global threat.\\nIn one notorious example, Canadian authorities said they had busted a money-laundering scheme linked to Black Axe worth more than $5bn (£3.8bn) in 2017.\\n“They are very organised and very structured,” Tomonobu Kaya, a senior official at Interpol’s Financial Crime and Anti-Corruption Centre, told the BBC.\\nAccording to a 2022 report by Interpol, “Black Axe and similar groups are responsible for the majority of the world’s cyber-enabled financial fraud as well as many other serious crimes”.\\nMr Kaya said innovations in money-transfer software and cryptocurrency have played into the hands of group, which are renowned for multi-million dollar online scams.\\n“These criminal syndicates are early adopters of new technologies… A lot of fintech developments make it really easy to illegally move money around the world,” he said.\\n'"
      ]
     },
     "execution_count": 3,
     "metadata": {},
     "output_type": "execute_result"
    }
   ],
   "source": [
    "paragraph"
   ]
  },
  {
   "cell_type": "code",
   "execution_count": 6,
   "id": "fd71f3be-873c-4f05-af32-3439ab57358a",
   "metadata": {},
   "outputs": [],
   "source": [
    "import re\n",
    "from nltk.stem import PorterStemmer # Stemming is done using this library\n",
    "from nltk.corpus import stopwords\n",
    "from nltk.stem import WordNetLemmatizer"
   ]
  },
  {
   "cell_type": "code",
   "execution_count": 7,
   "id": "bfb417f4",
   "metadata": {},
   "outputs": [],
   "source": [
    "ps = PorterStemmer()\n",
    "wordnet = WordNetLemmatizer()"
   ]
  },
  {
   "cell_type": "code",
   "execution_count": 9,
   "id": "15a303f4",
   "metadata": {},
   "outputs": [],
   "source": [
    "sentences = nltk.sent_tokenize(paragraph)"
   ]
  },
  {
   "cell_type": "markdown",
   "id": "d5a4145f",
   "metadata": {},
   "source": [
    "### Using Stemming"
   ]
  },
  {
   "cell_type": "code",
   "execution_count": 10,
   "id": "8897fa15",
   "metadata": {},
   "outputs": [],
   "source": [
    "corpus = []\n",
    "for i in range(len(sentences)):\n",
    "    review = re.sub('[^a-zA-z]', ' ', sentences[i])\n",
    "    review = review.lower()\n",
    "    review = review.split()\n",
    "    review = [ps.stem(word) for word in review if not word in set(stopwords.words('english'))]\n",
    "    review = ' '.join(review)\n",
    "    corpus.append(review)"
   ]
  },
  {
   "cell_type": "code",
   "execution_count": 12,
   "id": "86af3f0a",
   "metadata": {},
   "outputs": [],
   "source": [
    "# Creating the TF-IDF model\n",
    "from sklearn.feature_extraction.text import TfidfVectorizer\n",
    "cv = TfidfVectorizer()\n",
    "X = cv.fit_transform(corpus).toarray()"
   ]
  },
  {
   "cell_type": "code",
   "execution_count": 13,
   "id": "b9ab8260",
   "metadata": {},
   "outputs": [
    {
     "data": {
      "text/plain": [
       "array([[0.        , 0.        , 0.        , ..., 0.26272611, 0.19293796,\n",
       "        0.        ],\n",
       "       [0.        , 0.        , 0.        , ..., 0.        , 0.        ,\n",
       "        0.        ],\n",
       "       [0.        , 0.        , 0.28936967, ..., 0.        , 0.        ,\n",
       "        0.        ],\n",
       "       ...,\n",
       "       [0.26437191, 0.        , 0.        , ..., 0.        , 0.19414658,\n",
       "        0.        ],\n",
       "       [0.        , 0.        , 0.        , ..., 0.        , 0.        ,\n",
       "        0.        ],\n",
       "       [0.        , 0.25191217, 0.        , ..., 0.        , 0.18499653,\n",
       "        0.        ]])"
      ]
     },
     "execution_count": 13,
     "metadata": {},
     "output_type": "execute_result"
    }
   ],
   "source": [
    "X"
   ]
  },
  {
   "cell_type": "markdown",
   "id": "3f4c6d72",
   "metadata": {},
   "source": [
    "### Using WordNetLemmatizer"
   ]
  },
  {
   "cell_type": "code",
   "execution_count": 14,
   "id": "110183d5",
   "metadata": {},
   "outputs": [],
   "source": [
    "corpus = []\n",
    "for i in range(len(sentences)):\n",
    "    review = re.sub('[^a-zA-z]', ' ', sentences[i])\n",
    "    review = review.lower()\n",
    "    review = review.split()\n",
    "    review = [wordnet.lemmatize(word) for word in review if not word in set(stopwords.words('english'))]\n",
    "    review = ' '.join(review)\n",
    "    corpus.append(review)"
   ]
  },
  {
   "cell_type": "code",
   "execution_count": 15,
   "id": "e8563314-b4e9-4784-b60c-b1fd01867b26",
   "metadata": {},
   "outputs": [],
   "source": [
    "# Creating the TF-IDF model\n",
    "from sklearn.feature_extraction.text import TfidfVectorizer\n",
    "cv = TfidfVectorizer()\n",
    "X = cv.fit_transform(corpus).toarray()"
   ]
  },
  {
   "cell_type": "code",
   "execution_count": 16,
   "id": "dd223c0b",
   "metadata": {},
   "outputs": [
    {
     "data": {
      "text/plain": [
       "array([[0.        , 0.        , 0.        , ..., 0.26016514, 0.19105725,\n",
       "        0.        ],\n",
       "       [0.        , 0.        , 0.        , ..., 0.        , 0.        ,\n",
       "        0.        ],\n",
       "       [0.        , 0.        , 0.28266511, ..., 0.        , 0.        ,\n",
       "        0.        ],\n",
       "       ...,\n",
       "       [0.26176298, 0.        , 0.        , ..., 0.        , 0.19223066,\n",
       "        0.        ],\n",
       "       [0.        , 0.        , 0.        , ..., 0.        , 0.        ,\n",
       "        0.        ],\n",
       "       [0.        , 0.24965193, 0.        , ..., 0.        , 0.18333668,\n",
       "        0.        ]])"
      ]
     },
     "execution_count": 16,
     "metadata": {},
     "output_type": "execute_result"
    }
   ],
   "source": [
    "X"
   ]
  },
  {
   "cell_type": "code",
   "execution_count": 17,
   "id": "4d121a43",
   "metadata": {},
   "outputs": [
    {
     "data": {
      "text/plain": [
       "{'police': 82,\n",
       " 'unit': 110,\n",
       " 'around': 8,\n",
       " 'world': 114,\n",
       " 'joined': 50,\n",
       " 'force': 39,\n",
       " 'series': 96,\n",
       " 'covert': 25,\n",
       " 'operation': 77,\n",
       " 'targeting': 103,\n",
       " 'one': 75,\n",
       " 'west': 113,\n",
       " 'africa': 3,\n",
       " 'feared': 36,\n",
       " 'criminal': 27,\n",
       " 'network': 69,\n",
       " 'black': 13,\n",
       " 'axe': 11,\n",
       " 'jackal': 49,\n",
       " 'iii': 44,\n",
       " 'saw': 92,\n",
       " 'officer': 73,\n",
       " 'body': 16,\n",
       " 'armour': 7,\n",
       " 'carry': 20,\n",
       " 'raid': 84,\n",
       " 'country': 24,\n",
       " 'april': 6,\n",
       " 'july': 51,\n",
       " 'mission': 64,\n",
       " 'co': 22,\n",
       " 'ordinated': 78,\n",
       " 'global': 41,\n",
       " 'policing': 83,\n",
       " 'agency': 4,\n",
       " 'interpol': 48,\n",
       " 'led': 54,\n",
       " 'arrest': 9,\n",
       " 'people': 80,\n",
       " 'link': 55,\n",
       " 'affiliated': 2,\n",
       " 'group': 42,\n",
       " 'called': 18,\n",
       " 'major': 58,\n",
       " 'blow': 14,\n",
       " 'nigerian': 71,\n",
       " 'crime': 26,\n",
       " 'warned': 111,\n",
       " 'international': 47,\n",
       " 'reach': 85,\n",
       " 'technological': 104,\n",
       " 'sophistication': 100,\n",
       " 'mean': 62,\n",
       " 'remains': 87,\n",
       " 'threat': 106,\n",
       " 'notorious': 72,\n",
       " 'example': 35,\n",
       " 'canadian': 19,\n",
       " 'authority': 10,\n",
       " 'said': 91,\n",
       " 'busted': 17,\n",
       " 'money': 65,\n",
       " 'laundering': 53,\n",
       " 'scheme': 94,\n",
       " 'linked': 56,\n",
       " 'worth': 115,\n",
       " 'bn': 15,\n",
       " 'organised': 79,\n",
       " 'structured': 101,\n",
       " 'tomonobu': 108,\n",
       " 'kaya': 52,\n",
       " 'senior': 95,\n",
       " 'official': 74,\n",
       " 'financial': 37,\n",
       " 'anti': 5,\n",
       " 'corruption': 23,\n",
       " 'centre': 21,\n",
       " 'told': 107,\n",
       " 'bbc': 12,\n",
       " 'according': 0,\n",
       " 'report': 89,\n",
       " 'similar': 98,\n",
       " 'responsible': 90,\n",
       " 'majority': 59,\n",
       " 'cyber': 29,\n",
       " 'enabled': 34,\n",
       " 'fraud': 40,\n",
       " 'well': 112,\n",
       " 'many': 61,\n",
       " 'serious': 97,\n",
       " 'mr': 67,\n",
       " 'innovation': 46,\n",
       " 'transfer': 109,\n",
       " 'software': 99,\n",
       " 'cryptocurrency': 28,\n",
       " 'played': 81,\n",
       " 'hand': 43,\n",
       " 'renowned': 88,\n",
       " 'multi': 68,\n",
       " 'million': 63,\n",
       " 'dollar': 31,\n",
       " 'online': 76,\n",
       " 'scam': 93,\n",
       " 'syndicate': 102,\n",
       " 'early': 32,\n",
       " 'adopter': 1,\n",
       " 'new': 70,\n",
       " 'technology': 105,\n",
       " 'lot': 57,\n",
       " 'fintech': 38,\n",
       " 'development': 30,\n",
       " 'make': 60,\n",
       " 'really': 86,\n",
       " 'easy': 33,\n",
       " 'illegally': 45,\n",
       " 'move': 66}"
      ]
     },
     "execution_count": 17,
     "metadata": {},
     "output_type": "execute_result"
    }
   ],
   "source": [
    "cv.vocabulary_"
   ]
  },
  {
   "cell_type": "code",
   "execution_count": null,
   "id": "6257d650",
   "metadata": {},
   "outputs": [],
   "source": []
  }
 ],
 "metadata": {
  "kernelspec": {
   "display_name": "Python 3 (ipykernel)",
   "language": "python",
   "name": "python3"
  },
  "language_info": {
   "codemirror_mode": {
    "name": "ipython",
    "version": 3
   },
   "file_extension": ".py",
   "mimetype": "text/x-python",
   "name": "python",
   "nbconvert_exporter": "python",
   "pygments_lexer": "ipython3",
   "version": "3.11.7"
  }
 },
 "nbformat": 4,
 "nbformat_minor": 5
}
