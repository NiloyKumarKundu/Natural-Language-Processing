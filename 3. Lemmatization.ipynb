{
 "cells": [
  {
   "cell_type": "code",
   "execution_count": 1,
   "id": "d6c0ec5e-7927-4216-b49e-08daddc8070a",
   "metadata": {},
   "outputs": [],
   "source": [
    "import nltk\n",
    "from nltk.stem import WordNetLemmatizer # responsible for doing the lemmatization function\n",
    "from nltk.corpus import stopwords"
   ]
  },
  {
   "cell_type": "code",
   "execution_count": 2,
   "id": "f2367afb-6389-42d4-bbfe-3b94b78ff739",
   "metadata": {},
   "outputs": [],
   "source": [
    "paragraph = \"\"\"\n",
    "Police units around the world have joined forces in a series of covert operations targeting one of West Africa’s most feared criminal networks - Black Axe.\n",
    "Operation Jackal III saw officers in body armour carry out raids in 21 countries between April and July 2024.\n",
    "The mission, co-ordinated by global policing agency Interpol, led to the arrest of 300 people with links to Black Axe and other affiliated groups.\n",
    "Interpol called the operation a “major blow” to the Nigerian crime network, but warned that its international reach and technological sophistication mean it remains a global threat.\n",
    "In one notorious example, Canadian authorities said they had busted a money-laundering scheme linked to Black Axe worth more than $5bn (£3.8bn) in 2017.\n",
    "“They are very organised and very structured,” Tomonobu Kaya, a senior official at Interpol’s Financial Crime and Anti-Corruption Centre, told the BBC.\n",
    "According to a 2022 report by Interpol, “Black Axe and similar groups are responsible for the majority of the world’s cyber-enabled financial fraud as well as many other serious crimes”.\n",
    "Mr Kaya said innovations in money-transfer software and cryptocurrency have played into the hands of group, which are renowned for multi-million dollar online scams.\n",
    "“These criminal syndicates are early adopters of new technologies… A lot of fintech developments make it really easy to illegally move money around the world,” he said.\n",
    "\"\"\""
   ]
  },
  {
   "cell_type": "code",
   "execution_count": 3,
   "id": "d705c00f-a0e9-4352-9607-ae471186ad29",
   "metadata": {},
   "outputs": [
    {
     "data": {
      "text/plain": [
       "'\\nPolice units around the world have joined forces in a series of covert operations targeting one of West Africa’s most feared criminal networks - Black Axe.\\nOperation Jackal III saw officers in body armour carry out raids in 21 countries between April and July 2024.\\nThe mission, co-ordinated by global policing agency Interpol, led to the arrest of 300 people with links to Black Axe and other affiliated groups.\\nInterpol called the operation a “major blow” to the Nigerian crime network, but warned that its international reach and technological sophistication mean it remains a global threat.\\nIn one notorious example, Canadian authorities said they had busted a money-laundering scheme linked to Black Axe worth more than $5bn (£3.8bn) in 2017.\\n“They are very organised and very structured,” Tomonobu Kaya, a senior official at Interpol’s Financial Crime and Anti-Corruption Centre, told the BBC.\\nAccording to a 2022 report by Interpol, “Black Axe and similar groups are responsible for the majority of the world’s cyber-enabled financial fraud as well as many other serious crimes”.\\nMr Kaya said innovations in money-transfer software and cryptocurrency have played into the hands of group, which are renowned for multi-million dollar online scams.\\n“These criminal syndicates are early adopters of new technologies… A lot of fintech developments make it really easy to illegally move money around the world,” he said.\\n'"
      ]
     },
     "execution_count": 3,
     "metadata": {},
     "output_type": "execute_result"
    }
   ],
   "source": [
    "paragraph"
   ]
  },
  {
   "cell_type": "markdown",
   "id": "490f8dec-e231-42ec-9b9a-a43f7239858c",
   "metadata": {},
   "source": [
    "## Tokenization"
   ]
  },
  {
   "cell_type": "code",
   "execution_count": 4,
   "id": "b2a9a733-ec99-4bc3-969f-8d0c5f7e25c8",
   "metadata": {},
   "outputs": [],
   "source": [
    "sentences = nltk.sent_tokenize(paragraph)"
   ]
  },
  {
   "cell_type": "code",
   "execution_count": 5,
   "id": "64ff0dd0-56f3-4e1e-8690-9e31b4d7a873",
   "metadata": {},
   "outputs": [
    {
     "data": {
      "text/plain": [
       "['\\nPolice units around the world have joined forces in a series of covert operations targeting one of West Africa’s most feared criminal networks - Black Axe.',\n",
       " 'Operation Jackal III saw officers in body armour carry out raids in 21 countries between April and July 2024.',\n",
       " 'The mission, co-ordinated by global policing agency Interpol, led to the arrest of 300 people with links to Black Axe and other affiliated groups.',\n",
       " 'Interpol called the operation a “major blow” to the Nigerian crime network, but warned that its international reach and technological sophistication mean it remains a global threat.',\n",
       " 'In one notorious example, Canadian authorities said they had busted a money-laundering scheme linked to Black Axe worth more than $5bn (£3.8bn) in 2017.',\n",
       " '“They are very organised and very structured,” Tomonobu Kaya, a senior official at Interpol’s Financial Crime and Anti-Corruption Centre, told the BBC.',\n",
       " 'According to a 2022 report by Interpol, “Black Axe and similar groups are responsible for the majority of the world’s cyber-enabled financial fraud as well as many other serious crimes”.',\n",
       " 'Mr Kaya said innovations in money-transfer software and cryptocurrency have played into the hands of group, which are renowned for multi-million dollar online scams.',\n",
       " '“These criminal syndicates are early adopters of new technologies… A lot of fintech developments make it really easy to illegally move money around the world,” he said.']"
      ]
     },
     "execution_count": 5,
     "metadata": {},
     "output_type": "execute_result"
    }
   ],
   "source": [
    "sentences"
   ]
  },
  {
   "cell_type": "code",
   "execution_count": 6,
   "id": "09a09fff-4891-40c2-be27-808bcfc515e2",
   "metadata": {},
   "outputs": [
    {
     "data": {
      "text/plain": [
       "list"
      ]
     },
     "execution_count": 6,
     "metadata": {},
     "output_type": "execute_result"
    }
   ],
   "source": [
    "type(sentences)"
   ]
  },
  {
   "cell_type": "markdown",
   "id": "77977b7e-d990-44ff-9bce-b115a35ee083",
   "metadata": {},
   "source": [
    "### Lemmatizer --> Find out the base word with proper spelling"
   ]
  },
  {
   "cell_type": "code",
   "execution_count": 7,
   "id": "07368fb1-5b1a-4527-9ed5-07916fd958e9",
   "metadata": {},
   "outputs": [
    {
     "name": "stderr",
     "output_type": "stream",
     "text": [
      "[nltk_data] Downloading package wordnet to\n",
      "[nltk_data]     C:\\Users\\PC\\AppData\\Roaming\\nltk_data...\n",
      "[nltk_data]   Package wordnet is already up-to-date!\n"
     ]
    },
    {
     "data": {
      "text/plain": [
       "True"
      ]
     },
     "execution_count": 7,
     "metadata": {},
     "output_type": "execute_result"
    }
   ],
   "source": [
    "nltk.download('wordnet')"
   ]
  },
  {
   "cell_type": "code",
   "execution_count": 8,
   "id": "1934e51b-6e5c-4623-90c6-e909bd3206bf",
   "metadata": {},
   "outputs": [],
   "source": [
    "lemmatizer = WordNetLemmatizer()"
   ]
  },
  {
   "cell_type": "code",
   "execution_count": 9,
   "id": "2ea92630-16a9-4121-ae49-e55a9c06c94a",
   "metadata": {},
   "outputs": [
    {
     "data": {
      "text/plain": [
       "9"
      ]
     },
     "execution_count": 9,
     "metadata": {},
     "output_type": "execute_result"
    }
   ],
   "source": [
    "len(sentences)"
   ]
  },
  {
   "cell_type": "markdown",
   "id": "875084c7-36fa-402d-82bc-ed4c91f227f0",
   "metadata": {},
   "source": [
    "## Apply Lemmatizer"
   ]
  },
  {
   "cell_type": "code",
   "execution_count": 10,
   "id": "13f7a6fe-361e-4a8c-ab23-0949a9eeae76",
   "metadata": {},
   "outputs": [],
   "source": [
    "for i in range(len(sentences)):\n",
    "    words = nltk.word_tokenize(sentences[i])\n",
    "    words = [lemmatizer.lemmatize(word) for word in words if word not in set(stopwords.words('english'))]\n",
    "    sentences[i] = ' '.join(words)"
   ]
  },
  {
   "cell_type": "code",
   "execution_count": 11,
   "id": "e8563314-b4e9-4784-b60c-b1fd01867b26",
   "metadata": {},
   "outputs": [
    {
     "data": {
      "text/plain": [
       "['Police unit around world joined force series covert operation targeting one West Africa ’ feared criminal network - Black Axe .',\n",
       " 'Operation Jackal III saw officer body armour carry raid 21 country April July 2024 .',\n",
       " 'The mission , co-ordinated global policing agency Interpol , led arrest 300 people link Black Axe affiliated group .',\n",
       " 'Interpol called operation “ major blow ” Nigerian crime network , warned international reach technological sophistication mean remains global threat .',\n",
       " 'In one notorious example , Canadian authority said busted money-laundering scheme linked Black Axe worth $ 5bn ( £3.8bn ) 2017 .',\n",
       " '“ They organised structured , ” Tomonobu Kaya , senior official Interpol ’ Financial Crime Anti-Corruption Centre , told BBC .',\n",
       " 'According 2022 report Interpol , “ Black Axe similar group responsible majority world ’ cyber-enabled financial fraud well many serious crime ” .',\n",
       " 'Mr Kaya said innovation money-transfer software cryptocurrency played hand group , renowned multi-million dollar online scam .',\n",
       " '“ These criminal syndicate early adopter new technologies… A lot fintech development make really easy illegally move money around world , ” said .']"
      ]
     },
     "execution_count": 11,
     "metadata": {},
     "output_type": "execute_result"
    }
   ],
   "source": [
    "sentences"
   ]
  },
  {
   "cell_type": "code",
   "execution_count": null,
   "id": "178d8e21",
   "metadata": {},
   "outputs": [],
   "source": []
  },
  {
   "cell_type": "code",
   "execution_count": null,
   "id": "2e58ad7a",
   "metadata": {},
   "outputs": [],
   "source": []
  },
  {
   "cell_type": "code",
   "execution_count": null,
   "id": "038c7299",
   "metadata": {},
   "outputs": [],
   "source": []
  }
 ],
 "metadata": {
  "kernelspec": {
   "display_name": "Python 3 (ipykernel)",
   "language": "python",
   "name": "python3"
  },
  "language_info": {
   "codemirror_mode": {
    "name": "ipython",
    "version": 3
   },
   "file_extension": ".py",
   "mimetype": "text/x-python",
   "name": "python",
   "nbconvert_exporter": "python",
   "pygments_lexer": "ipython3",
   "version": "3.11.7"
  }
 },
 "nbformat": 4,
 "nbformat_minor": 5
}
