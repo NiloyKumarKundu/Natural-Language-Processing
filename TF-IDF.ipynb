{
 "cells": [
  {
   "cell_type": "code",
   "execution_count": 1,
   "id": "d6c0ec5e-7927-4216-b49e-08daddc8070a",
   "metadata": {},
   "outputs": [],
   "source": [
    "import numpy as np\n",
    "import pandas as pd"
   ]
  },
  {
   "cell_type": "code",
   "execution_count": 2,
   "id": "f2367afb-6389-42d4-bbfe-3b94b78ff739",
   "metadata": {},
   "outputs": [],
   "source": [
    "paragraph = \"\"\"\n",
    "Alexander III of Macedon (Ancient Greek: Ἀλέξανδρος, romanized: Alexandros; 20/21 July 356 BC – 10/11 June 323 BC), most commonly known as Alexander the Great,[c] was a king of the ancient Greek kingdom of Macedon.[d] He succeeded his father Philip II to the throne in 336 BC at the age of 20 and spent most of his ruling years conducting a lengthy military campaign throughout Western Asia, Central Asia, parts of South Asia, and Egypt. By the age of 30, he had created one of the largest empires in history, stretching from Greece to northwestern India.[1] He was undefeated in battle and is widely considered to be one of history's greatest and most successful military commanders.[2][3][4]\n",
    "\n",
    "Until the age of 16, Alexander was tutored by Aristotle. In 335 BC, shortly after his assumption of kingship over Macedon, he campaigned in the Balkans and reasserted control over Thrace and parts of Illyria before marching on the city of Thebes, which was subsequently destroyed in battle. Alexander then led the League of Corinth, and used his authority to launch the pan-Hellenic project envisaged by his father, assuming leadership over all Greeks in their conquest of Persia.[5][6]\n",
    "\n",
    "In 334 BC, he invaded the Achaemenid Persian Empire and began a series of campaigns that lasted for 10 years. Following his conquest of Asia Minor, Alexander broke the power of Achaemenid Persia in a series of decisive battles, including those at Issus and Gaugamela; he subsequently overthrew Darius III and conquered the Achaemenid Empire in its entirety.[e] After the fall of Persia, the Macedonian Empire held a vast swath of territory between the Adriatic Sea and the Indus River. Alexander endeavored to reach the \"ends of the world and the Great Outer Sea\" and invaded India in 326 BC, achieving an important victory over Porus, an ancient Indian king of present-day Punjab, at the Battle of the Hydaspes. Due to the demand of his homesick troops, he eventually turned back at the Beas River and later died in 323 BC in Babylon, the city of Mesopotamia that he had planned to establish as his empire's capital. Alexander's death left unexecuted an additional series of planned military and mercantile campaigns that would have begun with a Greek invasion of Arabia. In the years following his death, a series of civil wars broke out across the Macedonian Empire, eventually leading to its disintegration at the hands of the Diadochi.\n",
    "\"\"\""
   ]
  },
  {
   "cell_type": "code",
   "execution_count": 3,
   "id": "d705c00f-a0e9-4352-9607-ae471186ad29",
   "metadata": {},
   "outputs": [
    {
     "data": {
      "text/plain": [
       "'\\nAlexander III of Macedon (Ancient Greek: Ἀλέξανδρος, romanized: Alexandros; 20/21 July 356 BC – 10/11 June 323 BC), most commonly known as Alexander the Great,[c] was a king of the ancient Greek kingdom of Macedon.[d] He succeeded his father Philip II to the throne in 336 BC at the age of 20 and spent most of his ruling years conducting a lengthy military campaign throughout Western Asia, Central Asia, parts of South Asia, and Egypt. By the age of 30, he had created one of the largest empires in history, stretching from Greece to northwestern India.[1] He was undefeated in battle and is widely considered to be one of history\\'s greatest and most successful military commanders.[2][3][4]\\n\\nUntil the age of 16, Alexander was tutored by Aristotle. In 335 BC, shortly after his assumption of kingship over Macedon, he campaigned in the Balkans and reasserted control over Thrace and parts of Illyria before marching on the city of Thebes, which was subsequently destroyed in battle. Alexander then led the League of Corinth, and used his authority to launch the pan-Hellenic project envisaged by his father, assuming leadership over all Greeks in their conquest of Persia.[5][6]\\n\\nIn 334 BC, he invaded the Achaemenid Persian Empire and began a series of campaigns that lasted for 10 years. Following his conquest of Asia Minor, Alexander broke the power of Achaemenid Persia in a series of decisive battles, including those at Issus and Gaugamela; he subsequently overthrew Darius III and conquered the Achaemenid Empire in its entirety.[e] After the fall of Persia, the Macedonian Empire held a vast swath of territory between the Adriatic Sea and the Indus River. Alexander endeavored to reach the \"ends of the world and the Great Outer Sea\" and invaded India in 326 BC, achieving an important victory over Porus, an ancient Indian king of present-day Punjab, at the Battle of the Hydaspes. Due to the demand of his homesick troops, he eventually turned back at the Beas River and later died in 323 BC in Babylon, the city of Mesopotamia that he had planned to establish as his empire\\'s capital. Alexander\\'s death left unexecuted an additional series of planned military and mercantile campaigns that would have begun with a Greek invasion of Arabia. In the years following his death, a series of civil wars broke out across the Macedonian Empire, eventually leading to its disintegration at the hands of the Diadochi.\\n'"
      ]
     },
     "execution_count": 3,
     "metadata": {},
     "output_type": "execute_result"
    }
   ],
   "source": [
    "paragraph"
   ]
  },
  {
   "cell_type": "code",
   "execution_count": 4,
   "id": "fd71f3be-873c-4f05-af32-3439ab57358a",
   "metadata": {},
   "outputs": [],
   "source": [
    "import nltk\n",
    "from nltk.stem import PorterStemmer # Stemming is done using this library\n",
    "from nltk.corpus import stopwords"
   ]
  },
  {
   "cell_type": "markdown",
   "id": "490f8dec-e231-42ec-9b9a-a43f7239858c",
   "metadata": {},
   "source": [
    "## Tokenization --> Converts paragraphs-sentences-words"
   ]
  },
  {
   "cell_type": "code",
   "execution_count": 5,
   "id": "b2a9a733-ec99-4bc3-969f-8d0c5f7e25c8",
   "metadata": {},
   "outputs": [
    {
     "name": "stderr",
     "output_type": "stream",
     "text": [
      "[nltk_data] Downloading package punkt to\n",
      "[nltk_data]     C:\\Users\\hp\\AppData\\Roaming\\nltk_data...\n",
      "[nltk_data]   Unzipping tokenizers\\punkt.zip.\n"
     ]
    }
   ],
   "source": [
    "nltk.download('punkt') # download this package for doing the tokenization.\n",
    "sentences = nltk.sent_tokenize(paragraph)"
   ]
  },
  {
   "cell_type": "code",
   "execution_count": 6,
   "id": "64ff0dd0-56f3-4e1e-8690-9e31b4d7a873",
   "metadata": {},
   "outputs": [
    {
     "data": {
      "text/plain": [
       "['\\nAlexander III of Macedon (Ancient Greek: Ἀλέξανδρος, romanized: Alexandros; 20/21 July 356 BC – 10/11 June 323 BC), most commonly known as Alexander the Great,[c] was a king of the ancient Greek kingdom of Macedon.',\n",
       " '[d] He succeeded his father Philip II to the throne in 336 BC at the age of 20 and spent most of his ruling years conducting a lengthy military campaign throughout Western Asia, Central Asia, parts of South Asia, and Egypt.',\n",
       " 'By the age of 30, he had created one of the largest empires in history, stretching from Greece to northwestern India.',\n",
       " \"[1] He was undefeated in battle and is widely considered to be one of history's greatest and most successful military commanders.\",\n",
       " '[2][3][4]\\n\\nUntil the age of 16, Alexander was tutored by Aristotle.',\n",
       " 'In 335 BC, shortly after his assumption of kingship over Macedon, he campaigned in the Balkans and reasserted control over Thrace and parts of Illyria before marching on the city of Thebes, which was subsequently destroyed in battle.',\n",
       " 'Alexander then led the League of Corinth, and used his authority to launch the pan-Hellenic project envisaged by his father, assuming leadership over all Greeks in their conquest of Persia.',\n",
       " '[5][6]\\n\\nIn 334 BC, he invaded the Achaemenid Persian Empire and began a series of campaigns that lasted for 10 years.',\n",
       " 'Following his conquest of Asia Minor, Alexander broke the power of Achaemenid Persia in a series of decisive battles, including those at Issus and Gaugamela; he subsequently overthrew Darius III and conquered the Achaemenid Empire in its entirety.',\n",
       " '[e] After the fall of Persia, the Macedonian Empire held a vast swath of territory between the Adriatic Sea and the Indus River.',\n",
       " 'Alexander endeavored to reach the \"ends of the world and the Great Outer Sea\" and invaded India in 326 BC, achieving an important victory over Porus, an ancient Indian king of present-day Punjab, at the Battle of the Hydaspes.',\n",
       " \"Due to the demand of his homesick troops, he eventually turned back at the Beas River and later died in 323 BC in Babylon, the city of Mesopotamia that he had planned to establish as his empire's capital.\",\n",
       " \"Alexander's death left unexecuted an additional series of planned military and mercantile campaigns that would have begun with a Greek invasion of Arabia.\",\n",
       " 'In the years following his death, a series of civil wars broke out across the Macedonian Empire, eventually leading to its disintegration at the hands of the Diadochi.']"
      ]
     },
     "execution_count": 6,
     "metadata": {},
     "output_type": "execute_result"
    }
   ],
   "source": [
    "sentences"
   ]
  },
  {
   "cell_type": "code",
   "execution_count": 7,
   "id": "09a09fff-4891-40c2-be27-808bcfc515e2",
   "metadata": {},
   "outputs": [
    {
     "data": {
      "text/plain": [
       "list"
      ]
     },
     "execution_count": 7,
     "metadata": {},
     "output_type": "execute_result"
    }
   ],
   "source": [
    "type(sentences)"
   ]
  },
  {
   "cell_type": "markdown",
   "id": "2a96ad16-8394-4c6a-92f9-4f090d9f7124",
   "metadata": {},
   "source": [
    "### Stemming --> Find out the base root word"
   ]
  },
  {
   "cell_type": "code",
   "execution_count": 8,
   "id": "c4091cdb-6a94-4ba7-aafc-9b8909b995e2",
   "metadata": {},
   "outputs": [],
   "source": [
    "stemmer = PorterStemmer()"
   ]
  },
  {
   "cell_type": "markdown",
   "id": "77977b7e-d990-44ff-9bce-b115a35ee083",
   "metadata": {},
   "source": [
    "### Lemmatizer --> Find out the base word with proper spelling"
   ]
  },
  {
   "cell_type": "code",
   "execution_count": 9,
   "id": "07368fb1-5b1a-4527-9ed5-07916fd958e9",
   "metadata": {},
   "outputs": [
    {
     "name": "stderr",
     "output_type": "stream",
     "text": [
      "[nltk_data] Downloading package wordnet to\n",
      "[nltk_data]     C:\\Users\\hp\\AppData\\Roaming\\nltk_data...\n"
     ]
    },
    {
     "data": {
      "text/plain": [
       "True"
      ]
     },
     "execution_count": 9,
     "metadata": {},
     "output_type": "execute_result"
    }
   ],
   "source": [
    "from nltk.stem import WordNetLemmatizer\n",
    "nltk.download('wordnet')"
   ]
  },
  {
   "cell_type": "code",
   "execution_count": 10,
   "id": "1934e51b-6e5c-4623-90c6-e909bd3206bf",
   "metadata": {},
   "outputs": [],
   "source": [
    "lemmatizer = WordNetLemmatizer()"
   ]
  },
  {
   "cell_type": "code",
   "execution_count": 11,
   "id": "2ea92630-16a9-4121-ae49-e55a9c06c94a",
   "metadata": {},
   "outputs": [
    {
     "data": {
      "text/plain": [
       "14"
      ]
     },
     "execution_count": 11,
     "metadata": {},
     "output_type": "execute_result"
    }
   ],
   "source": [
    "len(sentences)"
   ]
  },
  {
   "cell_type": "code",
   "execution_count": 14,
   "id": "789bbd58-85aa-48cc-967b-9f5a4114c54f",
   "metadata": {},
   "outputs": [
    {
     "name": "stderr",
     "output_type": "stream",
     "text": [
      "[nltk_data] Downloading package stopwords to\n",
      "[nltk_data]     C:\\Users\\hp\\AppData\\Roaming\\nltk_data...\n",
      "[nltk_data]   Unzipping corpora\\stopwords.zip.\n"
     ]
    },
    {
     "data": {
      "text/plain": [
       "True"
      ]
     },
     "execution_count": 14,
     "metadata": {},
     "output_type": "execute_result"
    }
   ],
   "source": [
    "nltk.download('stopwords')"
   ]
  },
  {
   "cell_type": "markdown",
   "id": "875084c7-36fa-402d-82bc-ed4c91f227f0",
   "metadata": {},
   "source": [
    "## Apply Stopwords. Lemmatize"
   ]
  },
  {
   "cell_type": "code",
   "execution_count": 17,
   "id": "13f7a6fe-361e-4a8c-ab23-0949a9eeae76",
   "metadata": {},
   "outputs": [],
   "source": [
    "import re\n",
    "corpus = []\n",
    "for i in range(len(sentences)):\n",
    "    review = re.sub('[^a-zA-Z]', ' ', sentences[i])\n",
    "    review = review.lower()\n",
    "    review = review.split()\n",
    "    review = [lemmatizer.lemmatize(word) for word in review if not word in set(stopwords.words('english'))]\n",
    "    review = ' '.join(review)\n",
    "    corpus.append(review)"
   ]
  },
  {
   "cell_type": "markdown",
   "id": "b49e5cda-7d68-46ae-8b7d-851d1784784f",
   "metadata": {},
   "source": [
    "## Bag of words"
   ]
  },
  {
   "cell_type": "code",
   "execution_count": 51,
   "id": "06857829-fc9c-424a-981a-33e16ef23994",
   "metadata": {},
   "outputs": [],
   "source": [
    "from sklearn.feature_extraction.text import CountVectorizer"
   ]
  },
  {
   "cell_type": "code",
   "execution_count": 52,
   "id": "a1a746cf-5a4c-4073-b378-03b52a191278",
   "metadata": {},
   "outputs": [],
   "source": [
    "cv = CountVectorizer(binary=True) # Binary is optional"
   ]
  },
  {
   "cell_type": "code",
   "execution_count": 53,
   "id": "131bd454-6c81-41f0-8696-a51eccec3a07",
   "metadata": {},
   "outputs": [],
   "source": [
    "X = cv.fit_transform(corpus)"
   ]
  },
  {
   "cell_type": "code",
   "execution_count": 54,
   "id": "7e967677-7c77-4185-ae50-c1bc1750ebf9",
   "metadata": {},
   "outputs": [
    {
     "data": {
      "text/plain": [
       "{'alexander': 6,\n",
       " 'iii': 72,\n",
       " 'macedon': 98,\n",
       " 'ancient': 8,\n",
       " 'greek': 64,\n",
       " 'romanized': 123,\n",
       " 'alexandros': 7,\n",
       " 'july': 82,\n",
       " 'bc': 19,\n",
       " 'june': 83,\n",
       " 'commonly': 31,\n",
       " 'known': 87,\n",
       " 'great': 61,\n",
       " 'king': 84,\n",
       " 'kingdom': 85,\n",
       " 'succeeded': 132,\n",
       " 'father': 58,\n",
       " 'philip': 113,\n",
       " 'ii': 71,\n",
       " 'throne': 138,\n",
       " 'age': 5,\n",
       " 'spent': 129,\n",
       " 'ruling': 124,\n",
       " 'year': 153,\n",
       " 'conducting': 32,\n",
       " 'lengthy': 97,\n",
       " 'military': 103,\n",
       " 'campaign': 24,\n",
       " 'throughout': 139,\n",
       " 'western': 149,\n",
       " 'asia': 11,\n",
       " 'central': 27,\n",
       " 'part': 110,\n",
       " 'south': 128,\n",
       " 'egypt': 49,\n",
       " 'created': 38,\n",
       " 'one': 106,\n",
       " 'largest': 88,\n",
       " 'empire': 50,\n",
       " 'history': 68,\n",
       " 'stretching': 130,\n",
       " 'greece': 63,\n",
       " 'northwestern': 105,\n",
       " 'india': 76,\n",
       " 'undefeated': 143,\n",
       " 'battle': 18,\n",
       " 'widely': 150,\n",
       " 'considered': 35,\n",
       " 'greatest': 62,\n",
       " 'successful': 133,\n",
       " 'commander': 30,\n",
       " 'tutored': 142,\n",
       " 'aristotle': 10,\n",
       " 'shortly': 127,\n",
       " 'assumption': 13,\n",
       " 'kingship': 86,\n",
       " 'campaigned': 25,\n",
       " 'balkan': 17,\n",
       " 'reasserted': 121,\n",
       " 'control': 36,\n",
       " 'thrace': 137,\n",
       " 'illyria': 73,\n",
       " 'marching': 100,\n",
       " 'city': 28,\n",
       " 'thebe': 136,\n",
       " 'subsequently': 131,\n",
       " 'destroyed': 44,\n",
       " 'led': 95,\n",
       " 'league': 94,\n",
       " 'corinth': 37,\n",
       " 'used': 145,\n",
       " 'authority': 14,\n",
       " 'launch': 91,\n",
       " 'pan': 109,\n",
       " 'hellenic': 67,\n",
       " 'project': 118,\n",
       " 'envisaged': 54,\n",
       " 'assuming': 12,\n",
       " 'leadership': 92,\n",
       " 'conquest': 34,\n",
       " 'persia': 111,\n",
       " 'invaded': 79,\n",
       " 'achaemenid': 0,\n",
       " 'persian': 112,\n",
       " 'began': 21,\n",
       " 'series': 126,\n",
       " 'lasted': 89,\n",
       " 'following': 59,\n",
       " 'minor': 104,\n",
       " 'broke': 23,\n",
       " 'power': 116,\n",
       " 'decisive': 42,\n",
       " 'including': 75,\n",
       " 'issus': 81,\n",
       " 'gaugamela': 60,\n",
       " 'overthrew': 108,\n",
       " 'darius': 39,\n",
       " 'conquered': 33,\n",
       " 'entirety': 53,\n",
       " 'fall': 57,\n",
       " 'macedonian': 99,\n",
       " 'held': 66,\n",
       " 'vast': 146,\n",
       " 'swath': 134,\n",
       " 'territory': 135,\n",
       " 'adriatic': 4,\n",
       " 'sea': 125,\n",
       " 'indus': 78,\n",
       " 'river': 122,\n",
       " 'endeavored': 52,\n",
       " 'reach': 120,\n",
       " 'end': 51,\n",
       " 'world': 151,\n",
       " 'outer': 107,\n",
       " 'achieving': 1,\n",
       " 'important': 74,\n",
       " 'victory': 147,\n",
       " 'porus': 115,\n",
       " 'indian': 77,\n",
       " 'present': 117,\n",
       " 'day': 40,\n",
       " 'punjab': 119,\n",
       " 'hydaspes': 70,\n",
       " 'due': 48,\n",
       " 'demand': 43,\n",
       " 'homesick': 69,\n",
       " 'troop': 140,\n",
       " 'eventually': 56,\n",
       " 'turned': 141,\n",
       " 'back': 16,\n",
       " 'beas': 20,\n",
       " 'later': 90,\n",
       " 'died': 46,\n",
       " 'babylon': 15,\n",
       " 'mesopotamia': 102,\n",
       " 'planned': 114,\n",
       " 'establish': 55,\n",
       " 'capital': 26,\n",
       " 'death': 41,\n",
       " 'left': 96,\n",
       " 'unexecuted': 144,\n",
       " 'additional': 3,\n",
       " 'mercantile': 101,\n",
       " 'would': 152,\n",
       " 'begun': 22,\n",
       " 'invasion': 80,\n",
       " 'arabia': 9,\n",
       " 'civil': 29,\n",
       " 'war': 148,\n",
       " 'across': 2,\n",
       " 'leading': 93,\n",
       " 'disintegration': 47,\n",
       " 'hand': 65,\n",
       " 'diadochi': 45}"
      ]
     },
     "execution_count": 54,
     "metadata": {},
     "output_type": "execute_result"
    }
   ],
   "source": [
    "cv.vocabulary_  ## Represents the index of the vectorizer"
   ]
  },
  {
   "cell_type": "code",
   "execution_count": 55,
   "id": "b8f0f3a5-1ac1-4f07-8233-88c08a788478",
   "metadata": {},
   "outputs": [
    {
     "data": {
      "text/plain": [
       "'alexander iii macedon ancient greek romanized alexandros july bc june bc commonly known alexander great c king ancient greek kingdom macedon'"
      ]
     },
     "execution_count": 55,
     "metadata": {},
     "output_type": "execute_result"
    }
   ],
   "source": [
    "corpus[0]"
   ]
  },
  {
   "cell_type": "code",
   "execution_count": 56,
   "id": "709add7b-31b6-4fc5-92ef-e421f9ab2949",
   "metadata": {},
   "outputs": [
    {
     "data": {
      "text/plain": [
       "array([[0, 0, 0, 0, 0, 0, 1, 1, 1, 0, 0, 0, 0, 0, 0, 0, 0, 0, 0, 1, 0, 0,\n",
       "        0, 0, 0, 0, 0, 0, 0, 0, 0, 1, 0, 0, 0, 0, 0, 0, 0, 0, 0, 0, 0, 0,\n",
       "        0, 0, 0, 0, 0, 0, 0, 0, 0, 0, 0, 0, 0, 0, 0, 0, 0, 1, 0, 0, 1, 0,\n",
       "        0, 0, 0, 0, 0, 0, 1, 0, 0, 0, 0, 0, 0, 0, 0, 0, 1, 1, 1, 1, 0, 1,\n",
       "        0, 0, 0, 0, 0, 0, 0, 0, 0, 0, 1, 0, 0, 0, 0, 0, 0, 0, 0, 0, 0, 0,\n",
       "        0, 0, 0, 0, 0, 0, 0, 0, 0, 0, 0, 0, 0, 1, 0, 0, 0, 0, 0, 0, 0, 0,\n",
       "        0, 0, 0, 0, 0, 0, 0, 0, 0, 0, 0, 0, 0, 0, 0, 0, 0, 0, 0, 0, 0, 0]],\n",
       "      dtype=int64)"
      ]
     },
     "execution_count": 56,
     "metadata": {},
     "output_type": "execute_result"
    }
   ],
   "source": [
    "X[0].toarray()"
   ]
  },
  {
   "cell_type": "code",
   "execution_count": 57,
   "id": "ec197321-244c-4ff2-a1d7-d7d3182bd7a5",
   "metadata": {},
   "outputs": [
    {
     "data": {
      "text/plain": [
       "(1, 154)"
      ]
     },
     "execution_count": 57,
     "metadata": {},
     "output_type": "execute_result"
    }
   ],
   "source": [
    "X[0].toarray().shape"
   ]
  },
  {
   "cell_type": "markdown",
   "id": "65f39925-3fb7-4099-90bb-e94485344bc6",
   "metadata": {},
   "source": [
    "## TFIDF"
   ]
  },
  {
   "cell_type": "code",
   "execution_count": 18,
   "id": "f99705f5-3fd8-47a6-b0ad-7b0144179190",
   "metadata": {},
   "outputs": [],
   "source": [
    "from sklearn.feature_extraction.text import TfidfVectorizer"
   ]
  },
  {
   "cell_type": "code",
   "execution_count": 20,
   "id": "e7709411-3176-4489-8e6d-6f53ab576c34",
   "metadata": {},
   "outputs": [],
   "source": [
    "cv = TfidfVectorizer()"
   ]
  },
  {
   "cell_type": "code",
   "execution_count": 21,
   "id": "1fe746ec-0838-4191-9f6a-d9fabcf607ff",
   "metadata": {},
   "outputs": [],
   "source": [
    "X = cv.fit_transform(corpus)"
   ]
  },
  {
   "cell_type": "code",
   "execution_count": 23,
   "id": "c59e8eb6-f164-42d9-b557-5cb4e424b1bb",
   "metadata": {},
   "outputs": [
    {
     "data": {
      "text/plain": [
       "'alexander iii macedon ancient greek romanized alexandros july bc june bc commonly known alexander great c king ancient greek kingdom macedon'"
      ]
     },
     "execution_count": 23,
     "metadata": {},
     "output_type": "execute_result"
    }
   ],
   "source": [
    "corpus[0]"
   ]
  },
  {
   "cell_type": "code",
   "execution_count": 25,
   "id": "e8a9969e-a0f8-4887-a03e-7c7a7e190286",
   "metadata": {},
   "outputs": [
    {
     "data": {
      "text/plain": [
       "array([[0.        , 0.        , 0.        , 0.        , 0.        ,\n",
       "        0.        , 0.25915813, 0.22170106, 0.38377032, 0.        ,\n",
       "        0.        , 0.        , 0.        , 0.        , 0.        ,\n",
       "        0.        , 0.        , 0.        , 0.        , 0.25915813,\n",
       "        0.        , 0.        , 0.        , 0.        , 0.        ,\n",
       "        0.        , 0.        , 0.        , 0.        , 0.        ,\n",
       "        0.        , 0.22170106, 0.        , 0.        , 0.        ,\n",
       "        0.        , 0.        , 0.        , 0.        , 0.        ,\n",
       "        0.        , 0.        , 0.        , 0.        , 0.        ,\n",
       "        0.        , 0.        , 0.        , 0.        , 0.        ,\n",
       "        0.        , 0.        , 0.        , 0.        , 0.        ,\n",
       "        0.        , 0.        , 0.        , 0.        , 0.        ,\n",
       "        0.        , 0.19188516, 0.        , 0.        , 0.34146089,\n",
       "        0.        , 0.        , 0.        , 0.        , 0.        ,\n",
       "        0.        , 0.        , 0.19188516, 0.        , 0.        ,\n",
       "        0.        , 0.        , 0.        , 0.        , 0.        ,\n",
       "        0.        , 0.        , 0.22170106, 0.22170106, 0.19188516,\n",
       "        0.22170106, 0.        , 0.22170106, 0.        , 0.        ,\n",
       "        0.        , 0.        , 0.        , 0.        , 0.        ,\n",
       "        0.        , 0.        , 0.        , 0.38377032, 0.        ,\n",
       "        0.        , 0.        , 0.        , 0.        , 0.        ,\n",
       "        0.        , 0.        , 0.        , 0.        , 0.        ,\n",
       "        0.        , 0.        , 0.        , 0.        , 0.        ,\n",
       "        0.        , 0.        , 0.        , 0.        , 0.        ,\n",
       "        0.        , 0.        , 0.        , 0.22170106, 0.        ,\n",
       "        0.        , 0.        , 0.        , 0.        , 0.        ,\n",
       "        0.        , 0.        , 0.        , 0.        , 0.        ,\n",
       "        0.        , 0.        , 0.        , 0.        , 0.        ,\n",
       "        0.        , 0.        , 0.        , 0.        , 0.        ,\n",
       "        0.        , 0.        , 0.        , 0.        , 0.        ,\n",
       "        0.        , 0.        , 0.        , 0.        ]])"
      ]
     },
     "execution_count": 25,
     "metadata": {},
     "output_type": "execute_result"
    }
   ],
   "source": [
    "X[0].toarray()"
   ]
  },
  {
   "cell_type": "code",
   "execution_count": 28,
   "id": "e82000eb-5cd2-46b7-a84e-4b62972bbf17",
   "metadata": {},
   "outputs": [],
   "source": [
    "cv = TfidfVectorizer(ngram_range=(3,3))  \n",
    "X = cv.fit_transform(corpus)"
   ]
  },
  {
   "cell_type": "code",
   "execution_count": 29,
   "id": "435ff8fe-ea73-422c-aa7d-01f915c5ee59",
   "metadata": {},
   "outputs": [
    {
     "data": {
      "text/plain": [
       "'alexander iii macedon ancient greek romanized alexandros july bc june bc commonly known alexander great c king ancient greek kingdom macedon'"
      ]
     },
     "execution_count": 29,
     "metadata": {},
     "output_type": "execute_result"
    }
   ],
   "source": [
    "corpus[0]"
   ]
  },
  {
   "cell_type": "code",
   "execution_count": 30,
   "id": "70d5c84f-fef0-4635-a017-bed0a754e81b",
   "metadata": {},
   "outputs": [
    {
     "data": {
      "text/plain": [
       "array([[0.        , 0.        , 0.        , 0.        , 0.        ,\n",
       "        0.        , 0.        , 0.        , 0.        , 0.        ,\n",
       "        0.        , 0.        , 0.        , 0.23570226, 0.23570226,\n",
       "        0.        , 0.        , 0.23570226, 0.23570226, 0.23570226,\n",
       "        0.        , 0.        , 0.        , 0.        , 0.        ,\n",
       "        0.        , 0.        , 0.        , 0.        , 0.        ,\n",
       "        0.        , 0.        , 0.        , 0.        , 0.        ,\n",
       "        0.23570226, 0.        , 0.23570226, 0.        , 0.        ,\n",
       "        0.        , 0.        , 0.        , 0.        , 0.        ,\n",
       "        0.        , 0.        , 0.        , 0.        , 0.        ,\n",
       "        0.        , 0.        , 0.23570226, 0.        , 0.        ,\n",
       "        0.        , 0.        , 0.        , 0.        , 0.        ,\n",
       "        0.        , 0.        , 0.        , 0.        , 0.        ,\n",
       "        0.        , 0.        , 0.        , 0.        , 0.        ,\n",
       "        0.        , 0.        , 0.        , 0.        , 0.        ,\n",
       "        0.        , 0.        , 0.        , 0.        , 0.        ,\n",
       "        0.        , 0.        , 0.        , 0.        , 0.        ,\n",
       "        0.23570226, 0.        , 0.        , 0.        , 0.        ,\n",
       "        0.        , 0.23570226, 0.23570226, 0.        , 0.        ,\n",
       "        0.        , 0.        , 0.        , 0.        , 0.        ,\n",
       "        0.23570226, 0.        , 0.        , 0.        , 0.        ,\n",
       "        0.        , 0.        , 0.        , 0.        , 0.23570226,\n",
       "        0.23570226, 0.23570226, 0.        , 0.        , 0.23570226,\n",
       "        0.        , 0.        , 0.        , 0.        , 0.        ,\n",
       "        0.        , 0.        , 0.        , 0.        , 0.23570226,\n",
       "        0.        , 0.        , 0.        , 0.        , 0.        ,\n",
       "        0.        , 0.        , 0.        , 0.        , 0.        ,\n",
       "        0.        , 0.        , 0.        , 0.        , 0.        ,\n",
       "        0.        , 0.        , 0.        , 0.        , 0.        ,\n",
       "        0.        , 0.        , 0.        , 0.        , 0.        ,\n",
       "        0.        , 0.        , 0.        , 0.        , 0.        ,\n",
       "        0.23570226, 0.        , 0.        , 0.        , 0.        ,\n",
       "        0.        , 0.        , 0.        , 0.        , 0.        ,\n",
       "        0.        , 0.        , 0.        , 0.        , 0.        ,\n",
       "        0.        , 0.        , 0.        , 0.        , 0.        ,\n",
       "        0.        , 0.        , 0.        , 0.        , 0.        ,\n",
       "        0.        , 0.        , 0.        , 0.        , 0.        ,\n",
       "        0.        , 0.        , 0.        , 0.        , 0.        ,\n",
       "        0.        ]])"
      ]
     },
     "execution_count": 30,
     "metadata": {},
     "output_type": "execute_result"
    }
   ],
   "source": [
    "X[0].toarray()"
   ]
  },
  {
   "cell_type": "code",
   "execution_count": 31,
   "id": "eb844514-2502-40ca-91ef-a8aaa991d319",
   "metadata": {},
   "outputs": [
    {
     "data": {
      "text/plain": [
       "{'alexander iii macedon': 14,\n",
       " 'iii macedon ancient': 100,\n",
       " 'macedon ancient greek': 124,\n",
       " 'ancient greek romanized': 19,\n",
       " 'greek romanized alexandros': 92,\n",
       " 'romanized alexandros july': 155,\n",
       " 'alexandros july bc': 17,\n",
       " 'july bc june': 109,\n",
       " 'bc june bc': 37,\n",
       " 'june bc commonly': 110,\n",
       " 'bc commonly known': 35,\n",
       " 'commonly known alexander': 52,\n",
       " 'known alexander great': 114,\n",
       " 'alexander great king': 13,\n",
       " 'great king ancient': 85,\n",
       " 'king ancient greek': 111,\n",
       " 'ancient greek kingdom': 18,\n",
       " 'greek kingdom macedon': 91,\n",
       " 'succeeded father philip': 169,\n",
       " 'father philip ii': 81,\n",
       " 'philip ii throne': 144,\n",
       " 'ii throne bc': 98,\n",
       " 'throne bc age': 175,\n",
       " 'bc age spent': 33,\n",
       " 'age spent ruling': 9,\n",
       " 'spent ruling year': 165,\n",
       " 'ruling year conducting': 156,\n",
       " 'year conducting lengthy': 189,\n",
       " 'conducting lengthy military': 53,\n",
       " 'lengthy military campaign': 123,\n",
       " 'military campaign throughout': 131,\n",
       " 'campaign throughout western': 45,\n",
       " 'throughout western asia': 176,\n",
       " 'western asia central': 185,\n",
       " 'asia central asia': 21,\n",
       " 'central asia part': 48,\n",
       " 'asia part south': 23,\n",
       " 'part south asia': 140,\n",
       " 'south asia egypt': 164,\n",
       " 'age created one': 8,\n",
       " 'created one largest': 59,\n",
       " 'one largest empire': 135,\n",
       " 'largest empire history': 115,\n",
       " 'empire history stretching': 72,\n",
       " 'history stretching greece': 96,\n",
       " 'stretching greece northwestern': 166,\n",
       " 'greece northwestern india': 88,\n",
       " 'undefeated battle widely': 179,\n",
       " 'battle widely considered': 31,\n",
       " 'widely considered one': 186,\n",
       " 'considered one history': 56,\n",
       " 'one history greatest': 134,\n",
       " 'history greatest successful': 95,\n",
       " 'greatest successful military': 87,\n",
       " 'successful military commander': 170,\n",
       " 'age alexander tutored': 7,\n",
       " 'alexander tutored aristotle': 16,\n",
       " 'bc shortly assumption': 38,\n",
       " 'shortly assumption kingship': 163,\n",
       " 'assumption kingship macedon': 25,\n",
       " 'kingship macedon campaigned': 113,\n",
       " 'macedon campaigned balkan': 125,\n",
       " 'campaigned balkan reasserted': 47,\n",
       " 'balkan reasserted control': 29,\n",
       " 'reasserted control thrace': 153,\n",
       " 'control thrace part': 57,\n",
       " 'thrace part illyria': 174,\n",
       " 'part illyria marching': 139,\n",
       " 'illyria marching city': 101,\n",
       " 'marching city thebe': 128,\n",
       " 'city thebe subsequently': 50,\n",
       " 'thebe subsequently destroyed': 173,\n",
       " 'subsequently destroyed battle': 167,\n",
       " 'alexander led league': 15,\n",
       " 'led league corinth': 121,\n",
       " 'league corinth used': 120,\n",
       " 'corinth used authority': 58,\n",
       " 'used authority launch': 181,\n",
       " 'authority launch pan': 26,\n",
       " 'launch pan hellenic': 117,\n",
       " 'pan hellenic project': 138,\n",
       " 'hellenic project envisaged': 94,\n",
       " 'project envisaged father': 150,\n",
       " 'envisaged father assuming': 75,\n",
       " 'father assuming leadership': 80,\n",
       " 'assuming leadership greek': 24,\n",
       " 'leadership greek conquest': 118,\n",
       " 'greek conquest persia': 89,\n",
       " 'bc invaded achaemenid': 36,\n",
       " 'invaded achaemenid persian': 106,\n",
       " 'achaemenid persian empire': 2,\n",
       " 'persian empire began': 143,\n",
       " 'empire began series': 69,\n",
       " 'began series campaign': 40,\n",
       " 'series campaign lasted': 159,\n",
       " 'campaign lasted year': 44,\n",
       " 'following conquest asia': 82,\n",
       " 'conquest asia minor': 55,\n",
       " 'asia minor alexander': 22,\n",
       " 'minor alexander broke': 133,\n",
       " 'alexander broke power': 10,\n",
       " 'broke power achaemenid': 43,\n",
       " 'power achaemenid persia': 148,\n",
       " 'achaemenid persia series': 1,\n",
       " 'persia series decisive': 142,\n",
       " 'series decisive battle': 161,\n",
       " 'decisive battle including': 64,\n",
       " 'battle including issus': 30,\n",
       " 'including issus gaugamela': 103,\n",
       " 'issus gaugamela subsequently': 108,\n",
       " 'gaugamela subsequently overthrew': 84,\n",
       " 'subsequently overthrew darius': 168,\n",
       " 'overthrew darius iii': 137,\n",
       " 'darius iii conquered': 60,\n",
       " 'iii conquered achaemenid': 99,\n",
       " 'conquered achaemenid empire': 54,\n",
       " 'achaemenid empire entirety': 0,\n",
       " 'fall persia macedonian': 79,\n",
       " 'persia macedonian empire': 141,\n",
       " 'macedonian empire held': 127,\n",
       " 'empire held vast': 71,\n",
       " 'held vast swath': 93,\n",
       " 'vast swath territory': 182,\n",
       " 'swath territory adriatic': 171,\n",
       " 'territory adriatic sea': 172,\n",
       " 'adriatic sea indus': 6,\n",
       " 'sea indus river': 157,\n",
       " 'alexander endeavored reach': 12,\n",
       " 'endeavored reach end': 74,\n",
       " 'reach end world': 152,\n",
       " 'end world great': 73,\n",
       " 'world great outer': 187,\n",
       " 'great outer sea': 86,\n",
       " 'outer sea invaded': 136,\n",
       " 'sea invaded india': 158,\n",
       " 'invaded india bc': 107,\n",
       " 'india bc achieving': 104,\n",
       " 'bc achieving important': 32,\n",
       " 'achieving important victory': 3,\n",
       " 'important victory porus': 102,\n",
       " 'victory porus ancient': 183,\n",
       " 'porus ancient indian': 147,\n",
       " 'ancient indian king': 20,\n",
       " 'indian king present': 105,\n",
       " 'king present day': 112,\n",
       " 'present day punjab': 149,\n",
       " 'day punjab battle': 61,\n",
       " 'punjab battle hydaspes': 151,\n",
       " 'due demand homesick': 68,\n",
       " 'demand homesick troop': 65,\n",
       " 'homesick troop eventually': 97,\n",
       " 'troop eventually turned': 177,\n",
       " 'eventually turned back': 78,\n",
       " 'turned back beas': 178,\n",
       " 'back beas river': 28,\n",
       " 'beas river later': 39,\n",
       " 'river later died': 154,\n",
       " 'later died bc': 116,\n",
       " 'died bc babylon': 66,\n",
       " 'bc babylon city': 34,\n",
       " 'babylon city mesopotamia': 27,\n",
       " 'city mesopotamia planned': 49,\n",
       " 'mesopotamia planned establish': 130,\n",
       " 'planned establish empire': 145,\n",
       " 'establish empire capital': 76,\n",
       " 'alexander death left': 11,\n",
       " 'death left unexecuted': 62,\n",
       " 'left unexecuted additional': 122,\n",
       " 'unexecuted additional series': 180,\n",
       " 'additional series planned': 5,\n",
       " 'series planned military': 162,\n",
       " 'planned military mercantile': 146,\n",
       " 'military mercantile campaign': 132,\n",
       " 'mercantile campaign would': 129,\n",
       " 'campaign would begun': 46,\n",
       " 'would begun greek': 188,\n",
       " 'begun greek invasion': 41,\n",
       " 'greek invasion arabia': 90,\n",
       " 'year following death': 190,\n",
       " 'following death series': 83,\n",
       " 'death series civil': 63,\n",
       " 'series civil war': 160,\n",
       " 'civil war broke': 51,\n",
       " 'war broke across': 184,\n",
       " 'broke across macedonian': 42,\n",
       " 'across macedonian empire': 4,\n",
       " 'macedonian empire eventually': 126,\n",
       " 'empire eventually leading': 70,\n",
       " 'eventually leading disintegration': 77,\n",
       " 'leading disintegration hand': 119,\n",
       " 'disintegration hand diadochi': 67}"
      ]
     },
     "execution_count": 31,
     "metadata": {},
     "output_type": "execute_result"
    }
   ],
   "source": [
    "cv.vocabulary_"
   ]
  },
  {
   "cell_type": "markdown",
   "id": "3c14347c-72c3-433e-8838-5b2183bfaa09",
   "metadata": {},
   "source": [
    "### Define Max_features\n",
    "-> Top max_features based on the term frequency"
   ]
  },
  {
   "cell_type": "code",
   "execution_count": 35,
   "id": "52a02d0e-61d0-4be0-9dc1-307bb1b6f64e",
   "metadata": {},
   "outputs": [],
   "source": [
    "cv = TfidfVectorizer(ngram_range=(3,3), max_features=10)  \n",
    "X = cv.fit_transform(corpus)"
   ]
  },
  {
   "cell_type": "code",
   "execution_count": 36,
   "id": "81985f9a-95b1-427d-88b0-6fd66b6cd919",
   "metadata": {},
   "outputs": [
    {
     "data": {
      "text/plain": [
       "array([[0., 0., 0., 0., 1., 0., 0., 0., 0., 0.]])"
      ]
     },
     "execution_count": 36,
     "metadata": {},
     "output_type": "execute_result"
    }
   ],
   "source": [
    "X[0].toarray()"
   ]
  },
  {
   "cell_type": "code",
   "execution_count": null,
   "id": "e8563314-b4e9-4784-b60c-b1fd01867b26",
   "metadata": {},
   "outputs": [],
   "source": []
  }
 ],
 "metadata": {
  "kernelspec": {
   "display_name": "env",
   "language": "python",
   "name": "env"
  },
  "language_info": {
   "codemirror_mode": {
    "name": "ipython",
    "version": 3
   },
   "file_extension": ".py",
   "mimetype": "text/x-python",
   "name": "python",
   "nbconvert_exporter": "python",
   "pygments_lexer": "ipython3",
   "version": "3.11.9"
  }
 },
 "nbformat": 4,
 "nbformat_minor": 5
}
